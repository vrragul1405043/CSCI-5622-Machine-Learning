{
 "cells": [
  {
   "cell_type": "markdown",
   "metadata": {
    "deletable": false,
    "editable": false,
    "id": "VHv9UT-8xZVr",
    "nbgrader": {
     "cell_type": "markdown",
     "checksum": "3f81acd82ece13381a1f4b64fecba836",
     "grade": false,
     "grade_id": "title",
     "locked": true,
     "schema_version": 3,
     "solution": false,
     "task": false
    }
   },
   "source": [
    "# Homework 3 - Linear and Logistic Regressions\n",
    "## CSCI 5622 - Fall 2021\n",
    "***\n",
    "**Name**: $<$Ragul Venkataraman Ravisankar$>$\n",
    "***\n",
    "\n",
    "This assignment is due on Canvas by **11.59 PM on Thursday, October 28th**.\n",
    "Submit only this Jupyter notebook to Canvas.  Do not compress it using tar, rar, zip, etc.\n",
    "Your solutions to analysis questions should be done in Markdown directly below the associated question.\n",
    "Remember that you are encouraged to discuss the problems with your classmates and instructors,\n",
    "but **you must write all code and solutions on your own**, and list any people or sources consulted."
   ]
  },
  {
   "cell_type": "code",
   "execution_count": 129,
   "metadata": {
    "deletable": false,
    "editable": false,
    "executionInfo": {
     "elapsed": 244,
     "status": "ok",
     "timestamp": 1635627817218,
     "user": {
      "displayName": "Ragul Ravisankar",
      "photoUrl": "https://lh3.googleusercontent.com/a/default-user=s64",
      "userId": "17154159332672082782"
     },
     "user_tz": 360
    },
    "id": "nHRcgGAUxZVv",
    "nbgrader": {
     "cell_type": "code",
     "checksum": "9354a50cd416af2f0d80ee2111823fe7",
     "grade": false,
     "grade_id": "imports",
     "locked": true,
     "schema_version": 3,
     "solution": false,
     "task": false
    },
    "pycharm": {
     "name": "#%%\n"
    }
   },
   "outputs": [],
   "source": [
    "import numpy as np\n",
    "import matplotlib.pyplot as plt\n",
    "import pandas as pd\n",
    "import pickle, gzip\n",
    "from sklearn.preprocessing import StandardScaler\n",
    "from numpy.linalg import inv\n",
    "import copy\n",
    "from math import sqrt\n",
    "from sklearn.linear_model import lasso_path\n",
    "\n",
    "%matplotlib inline"
   ]
  },
  {
   "cell_type": "markdown",
   "metadata": {
    "deletable": false,
    "editable": false,
    "id": "tacrw2DmxZVw",
    "nbgrader": {
     "cell_type": "markdown",
     "checksum": "1b032fcf69a884a5981d01d7d0448a5c",
     "grade": false,
     "grade_id": "p1_title",
     "locked": true,
     "schema_version": 3,
     "solution": false,
     "task": false
    }
   },
   "source": [
    "## Problem 1: Linear Regression (40 points)\n",
    "For this problem we will be using the following datasets"
   ]
  },
  {
   "cell_type": "code",
   "execution_count": 130,
   "metadata": {
    "deletable": false,
    "editable": false,
    "executionInfo": {
     "elapsed": 2,
     "status": "ok",
     "timestamp": 1635627817428,
     "user": {
      "displayName": "Ragul Ravisankar",
      "photoUrl": "https://lh3.googleusercontent.com/a/default-user=s64",
      "userId": "17154159332672082782"
     },
     "user_tz": 360
    },
    "id": "VdGSjKeVxZVw",
    "nbgrader": {
     "cell_type": "code",
     "checksum": "3ae7f629ac419c794f9d3df38bb3cad6",
     "grade": false,
     "grade_id": "p1_data",
     "locked": true,
     "schema_version": 3,
     "solution": false,
     "task": false
    },
    "pycharm": {
     "name": "#%%\n"
    }
   },
   "outputs": [],
   "source": [
    "class CloudData:\n",
    "    def __init__(self):\n",
    "        # Data from: https://archive.ics.uci.edu/ml/datasets/Cloud\n",
    "        data = np.fromfile(\"/content/drive/MyDrive/PS3_5622/data/cloud.data\", sep = \" \").reshape((1024, 10))\n",
    "        y = data[:, 6]\n",
    "        X = np.delete(data, 6, axis = 1)\n",
    "        \n",
    "        self.train_x = X[:800]\n",
    "        self.train_y = y[:800]\n",
    "\n",
    "        \n",
    "        self.test_x = X[800:]\n",
    "        self.test_y = y[800:]\n",
    "        \n",
    "class ForestData:\n",
    "    def __init__(self):\n",
    "        # Data from: http://archive.ics.uci.edu/ml/datasets/Forest+Fires\n",
    "        data = pd.read_csv(\"/content/drive/MyDrive/PS3_5622/data/forestfires.csv\")\n",
    "        data = data.sample(frac = 1).reset_index(drop = True).drop(columns = [\"month\", \"day\"])\n",
    "        data[\"area\"] = np.log(data[\"area\"] + 1)\n",
    "        X = data.drop(columns = \"area\").values\n",
    "        y = data[\"area\"].values\n",
    "        \n",
    "        self.train_x = X[:400]\n",
    "        self.train_y = y[:400]\n",
    "        \n",
    "        self.test_x = X[400:]\n",
    "        self.test_y = y[400:]\n",
    "cloud_data = CloudData()\n",
    "forest_data = ForestData()"
   ]
  },
  {
   "cell_type": "markdown",
   "metadata": {
    "deletable": false,
    "editable": false,
    "id": "B3nCCS1nxZVx",
    "nbgrader": {
     "cell_type": "markdown",
     "checksum": "808149ca0b92af2020f6292646220986",
     "grade": false,
     "grade_id": "ridge_intro",
     "locked": true,
     "schema_version": 3,
     "solution": false,
     "task": false
    },
    "pycharm": {
     "name": "#%% md\n"
    }
   },
   "source": [
    "We have seen that Ridge regression adds a regularization term to the least square using the L2 norm.\n",
    "Ridge regression is part of scikit-learn package ([read more](https://scikit-learn.org/stable/modules/generated/sklearn.linear_model.Ridge.html))\n",
    "but we will be building our own implementation. You can test your implementation against scikit's.\n",
    "\n",
    "The objective of Ridge regression is to minimize:\n",
    "\n",
    "\\begin{align}\n",
    "\\frac{1}{N}\\sum_{i=1}^{N} ||y_i-\\mathbf{w}^T x_i-b||^2 + \\alpha||\\mathbf{w}||^2\n",
    "\\end{align}\n",
    "\n",
    "where $\\mathbf{w}$ denotes the set of parameters for the linear regression model, $b$ the intercept, $\\alpha$ is the trade-off regularization parameter, and $N$ the number of samples\n",
    "\n",
    "Luckily for us, Ridge regression has closed form solutions for $\\mathbf w$ and $b$.\n",
    "\n",
    "Let $X$ be the $N\\times d$ matrix whose rows are the training samples $(x_i)_{i\\leq N}$ and $Y=(y_i)_{i\\leq N}$ the target values.\n",
    "\n",
    "First, we start by centering the features (columns of X) by subtracting the mean of the column to get centered matrix $\\hat{X}$. Then the solution for the minimization is (trust me):\n",
    "\n",
    "\\begin{align}\n",
    "&\\mathbf{w^*} = (\\hat{X}^T\\hat{X} + \\alpha I)^{-1}\\hat{X}^TY \\\\\n",
    "&b^* = \\frac{1}{N} \\sum_{i}^{i=N} (y_i - \\mathbf{w^*}^T x_i)\n",
    "\\end{align}\n",
    "(Note that the samples in $b^*$ are not centered)\n",
    "\n",
    "A common practice is to scale or normalize (usually normalize) the features before fitting the model. It allows a _fair_ treatment of different features.\n",
    "You are allowed to use scikit's `StandardScaler` to do the normalization (yes, a thing called scaler is normalizing. Don't @ me, @ sklearn). Do not forget to run the same transformation on the test data before running the prediction.\n",
    "\n",
    "- 1.1 *[5 points]* Complete the `fit` and `evaluate` methods following the docstring description."
   ]
  },
  {
   "cell_type": "code",
   "execution_count": 131,
   "metadata": {
    "deletable": false,
    "executionInfo": {
     "elapsed": 5,
     "status": "ok",
     "timestamp": 1635627817650,
     "user": {
      "displayName": "Ragul Ravisankar",
      "photoUrl": "https://lh3.googleusercontent.com/a/default-user=s64",
      "userId": "17154159332672082782"
     },
     "user_tz": 360
    },
    "id": "SrZs3_sMxZVy",
    "nbgrader": {
     "cell_type": "code",
     "checksum": "e00e2a00fae3131b6d112d33169f0f21",
     "grade": false,
     "grade_id": "a_1_1",
     "locked": false,
     "schema_version": 3,
     "solution": true,
     "task": false
    },
    "pycharm": {
     "name": "#%%\n"
    }
   },
   "outputs": [],
   "source": [
    "class Ridge(object):\n",
    "\n",
    "    def __init__(self, alpha, normalize = False):\n",
    "        \"\"\"\n",
    "        :param alpha: regularization parameter\n",
    "        :param normalize: boolean whether to normalize the features or not\n",
    "        \"\"\"\n",
    "\n",
    "        self.alpha = alpha # our tuning / regularization parameter\n",
    "        self.coef_ = None # our weights vector, w (in formulae above)\n",
    "        self.intercept = None # our intercept parameter, b (in formulae above)\n",
    "        self.normalize = normalize # boolean whether to normalize the features or not\n",
    "        self.scaler = StandardScaler() # method by which to normalize the features (depends on self.normalize)\n",
    "\n",
    "    def fit(self, X, y):\n",
    "        \"\"\"\n",
    "        Fit the ridge model, train it using the provided data\n",
    "        Calculate the number of non-zero coefficients in the model weights and the norm using np.linalg.norm\n",
    "        :param X: training features (n_samples, n_features)\n",
    "        :param y: target values (n_samples)\n",
    "        :return: tuple (number of non-zeros coefficients of w, norm of w)\n",
    "        \"\"\"\n",
    "        num_nonzero_coefs, coef_norm = 0, 0\n",
    "        # Workspace 1.1.a\n",
    "        # TO DO: compute w and b and store them in self.coef_ and self.intercept\n",
    "        # HINT: use self.scaler first, if and only if self.normalize is True\n",
    "        #BEGIN \n",
    "        #code here\n",
    "\n",
    "        scaled_data = copy.deepcopy(X)\n",
    "\n",
    "        if self.normalize:\n",
    "          scaled_data = self.scaler.fit_transform(scaled_data,y)\n",
    "        \n",
    "        mean_of_all_features = scaled_data.mean(axis = 0)\n",
    "        centered_data = scaled_data - mean_of_all_features\n",
    "\n",
    "        term1 = np.matmul(np.transpose(centered_data),centered_data) # 𝑋̂𝑇𝑋\n",
    "        term2 = self.alpha * np.identity(term1.shape[0])\n",
    "        term3 = inv(term1 + term2)\n",
    "        term4 = np.matmul(np.transpose(centered_data),y)\n",
    "        W = np.matmul(term3,term4)\n",
    "\n",
    "        self.coef_ = W\n",
    "        \n",
    "        results = []\n",
    "        for idx in range(0,len(scaled_data)):\n",
    "          sum =(y[idx]-(np.dot(np.transpose(self.coef_),scaled_data[idx])))\n",
    "          results.append(sum)\n",
    "          \n",
    "\n",
    "        b = np.average(results)\n",
    "        self.intercept = b\n",
    "\n",
    "        num_nonzero_coefs = np.count_nonzero(W)\n",
    "        coef_norm = np.linalg.norm(W)\n",
    "        #END\n",
    "        return num_nonzero_coefs, coef_norm\n",
    "\n",
    "    def evaluate(self, test_x, test_y):\n",
    "        \"\"\"\n",
    "        Compute Root mean square error (RMSE) between the predicted values and the actual values  of the test data\n",
    "        :param test_x: test features\n",
    "        :param test_y: test target\n",
    "        :return: RMSE\n",
    "        \"\"\"\n",
    "\n",
    "        # Workspace 1.1.b\n",
    "        #BEGIN \n",
    "        #code here\n",
    "\n",
    "        root_mean_squared_error = 0\n",
    "        scaled_data = copy.deepcopy(test_x)\n",
    "        if self.normalize == True:\n",
    "          scaled_data = self.scaler.fit_transform(scaled_data,test_y)\n",
    "\n",
    "        y_predicted = []\n",
    "        for _,data in enumerate(scaled_data):\n",
    "          predicted_value = np.dot(self.coef_,data)+self.intercept\n",
    "          y_predicted.append(predicted_value)\n",
    "\n",
    "        root_mean_squared_error = np.sqrt(((test_y - y_predicted) ** 2).mean())\n",
    "        #END\n",
    "        return root_mean_squared_error"
   ]
  },
  {
   "cell_type": "code",
   "execution_count": 132,
   "metadata": {
    "deletable": false,
    "editable": false,
    "executionInfo": {
     "elapsed": 4,
     "status": "ok",
     "timestamp": 1635627817650,
     "user": {
      "displayName": "Ragul Ravisankar",
      "photoUrl": "https://lh3.googleusercontent.com/a/default-user=s64",
      "userId": "17154159332672082782"
     },
     "user_tz": 360
    },
    "id": "MJnROA9MxZVz",
    "nbgrader": {
     "cell_type": "code",
     "checksum": "d56ec7d6e3f88bbea00ac300ec608fde",
     "grade": true,
     "grade_id": "a_1_1_a",
     "locked": true,
     "points": 2.5,
     "schema_version": 3,
     "solution": false,
     "task": false
    },
    "pycharm": {
     "name": "#%%\n"
    }
   },
   "outputs": [],
   "source": [
    "# Tests cells, do not remove\n",
    "# Should run without errors\n",
    "sanity_X = np.array([[1.55143777, 0.2644804, 0.0995576 ],\n",
    "              [0.22541014,  1.6967911,  -0.45701382],\n",
    "              [0.12528546, -1.44263567, 0.7017054 ],\n",
    "              [-1.30567135, -0.86010032, -1.13522536]])\n",
    "sanity_y = np.array([ 136.70039877, 10.1003086, 44.67363091, -221.48398972])\n",
    "# Test unnormalized ridge\n",
    "coef_raw = np.array([67.3816571, 12.4267024, 46.63028522])\n",
    "intercept_raw = -7.2683820675025785\n",
    "reg = Ridge(alpha=2, normalize=False)\n",
    "reg.fit(sanity_X,sanity_y)\n",
    "assert np.alltrue(np.isclose(coef_raw, reg.coef_, atol=1e-5)) and np.isclose(intercept_raw, reg.intercept, atol=1e-5)"
   ]
  },
  {
   "cell_type": "code",
   "execution_count": 133,
   "metadata": {
    "deletable": false,
    "editable": false,
    "executionInfo": {
     "elapsed": 5,
     "status": "ok",
     "timestamp": 1635627817651,
     "user": {
      "displayName": "Ragul Ravisankar",
      "photoUrl": "https://lh3.googleusercontent.com/a/default-user=s64",
      "userId": "17154159332672082782"
     },
     "user_tz": 360
    },
    "id": "hYAuOCfgxZVz",
    "nbgrader": {
     "cell_type": "code",
     "checksum": "2d096edd9f3aa34f1ee3a2106c012d96",
     "grade": true,
     "grade_id": "a_1_1_b",
     "locked": true,
     "points": 2.5,
     "schema_version": 3,
     "solution": false,
     "task": false
    },
    "pycharm": {
     "name": "#%%\n"
    }
   },
   "outputs": [],
   "source": [
    "# test normalized ridge\n",
    "coef_norm = np.array([59.85861897, 18.28561265, 48.08714515])\n",
    "intercept_norm = -7.502412860000002\n",
    "reg = Ridge(alpha=2, normalize=True)\n",
    "reg.fit(sanity_X,sanity_y)\n",
    "assert np.alltrue(np.isclose(coef_norm, reg.coef_, atol=1e-5)) and np.isclose(intercept_norm, reg.intercept, atol=1e-5)"
   ]
  },
  {
   "cell_type": "markdown",
   "metadata": {
    "deletable": false,
    "editable": false,
    "id": "88vO8exZxZV0",
    "nbgrader": {
     "cell_type": "markdown",
     "checksum": "03178410c09a67c38e2dc1437eab1a4f",
     "grade": false,
     "grade_id": "q_1_2",
     "locked": true,
     "schema_version": 3,
     "solution": false,
     "task": false
    },
    "pycharm": {
     "name": "#%% md\n"
    }
   },
   "source": [
    "- 1.2 *[5 points]* For each of the datasets (cloud_data and forest_data from the beginning of this notebook), produce 3 plots as a function of alpha that compare normalized versus non-normalized Ridge:\n",
    "    - The number non-zero coefficients\n",
    "    - The norm of $\\mathbf w$\n",
    "    - The test RMSE (Root Mean Squared Error)\n",
    "Use $\\alpha = 1, 50, 100, 200, 1000$.\n",
    "\n",
    "To produce multiple plots in the same figure, see the examples [here](https://matplotlib.org/devdocs/gallery/subplots_axes_and_figures/subplots_demo.html)"
   ]
  },
  {
   "cell_type": "code",
   "execution_count": 134,
   "metadata": {
    "executionInfo": {
     "elapsed": 5,
     "status": "ok",
     "timestamp": 1635627817651,
     "user": {
      "displayName": "Ragul Ravisankar",
      "photoUrl": "https://lh3.googleusercontent.com/a/default-user=s64",
      "userId": "17154159332672082782"
     },
     "user_tz": 360
    },
    "id": "ff3J1PEsv5yl"
   },
   "outputs": [],
   "source": [
    "def compute_data_for_graph(dataset,alphas,Model,beta=0.5):\n",
    "  non_zero = []\n",
    "  normalized_non_zero = []\n",
    "\n",
    "  norm_w = []\n",
    "  normalized_norm_w = []\n",
    "\n",
    "  rmse = []\n",
    "  normalized_rmse = []\n",
    "\n",
    "  for alpha in alphas:\n",
    "    if Model == 'Ridge':\n",
    "      reg = Ridge(alpha=alpha, normalize=False)\n",
    "      reg_norm = Ridge(alpha=alpha, normalize=True)\n",
    "    elif Model == 'Lasso':\n",
    "      reg = Lasso(alpha=alpha, normalize=False)\n",
    "      reg_norm = Lasso(alpha=alpha, normalize=True)\n",
    "    else:\n",
    "      reg = Elastic(alpha=alpha, beta=beta, normalize=False)\n",
    "      reg_norm = Elastic(alpha=alpha, beta=beta, normalize=True)\n",
    "    number_non_zero, coeff_norm = reg.fit(dataset.train_x,dataset.train_y)\n",
    "    rmse1 = reg.evaluate(dataset.test_x,dataset.test_y)\n",
    "\n",
    "    non_zero.append(number_non_zero)\n",
    "    norm_w.append(coeff_norm)\n",
    "    rmse.append(rmse1)\n",
    "  \n",
    "    norm_number_non_zero, norm_coeff_norm = reg_norm.fit(dataset.train_x,dataset.train_y)\n",
    "    rmse2 = reg_norm.evaluate(dataset.test_x,dataset.test_y)\n",
    "\n",
    "    normalized_non_zero.append(norm_number_non_zero)\n",
    "    normalized_norm_w.append(norm_coeff_norm)\n",
    "    normalized_rmse.append(rmse2)\n",
    "\n",
    "  return rmse,normalized_rmse,non_zero,normalized_non_zero,norm_w,normalized_norm_w"
   ]
  },
  {
   "cell_type": "code",
   "execution_count": 135,
   "metadata": {
    "executionInfo": {
     "elapsed": 4,
     "status": "ok",
     "timestamp": 1635627817651,
     "user": {
      "displayName": "Ragul Ravisankar",
      "photoUrl": "https://lh3.googleusercontent.com/a/default-user=s64",
      "userId": "17154159332672082782"
     },
     "user_tz": 360
    },
    "id": "XwINlJgBwuvl"
   },
   "outputs": [],
   "source": [
    "def plot_graph(rmse, normalized_rmse, norm_w, normalized_norm_w, non_zero, normalized_non_zero, title):\n",
    "  fig, axs = plt.subplots(3, 2, figsize=(10,10))\n",
    "  fig.suptitle(title, fontweight =\"bold\")\n",
    "  axs[0, 0].plot(alphas, rmse)\n",
    "  axs[0, 0].set_title('Not Normalized')\n",
    "  axs[0, 0].set(xlabel='Alpha',ylabel='RMSE')\n",
    "  \n",
    "  axs[0, 1].plot(alphas,normalized_rmse, 'tab:orange')\n",
    "  axs[0, 1].set_title('Normalized')\n",
    "  axs[0, 1].set(xlabel='Alpha',ylabel='RMSE')\n",
    "  \n",
    "\n",
    "  # axs[1,0].set_title('Coeff Norm - Not Normalized')\n",
    "  axs[1, 0].plot(alphas, norm_w, 'tab:green')\n",
    "  axs[1, 0].set(xlabel='Alpha',ylabel='Coeff Norm')\n",
    "  \n",
    "  # axs[1,1].set_title('Coeff Norm - Normalized')\n",
    "  axs[1, 1].plot(alphas, normalized_norm_w, 'tab:red')\n",
    "  axs[1, 1].set(xlabel='Alpha',ylabel='Coeff Norm')\n",
    "  \n",
    "  # axs[2,0].set_title('Non Zero Coeff - Not Normalized')\n",
    "  axs[2,0].plot(alphas, non_zero, 'tab:brown')\n",
    "  axs[2, 0].set(xlabel='Alpha',ylabel='Non Zero Coeff')\n",
    "\n",
    "  # axs[2,1].set_title('Non Zero Coeff - Normalized')\n",
    "  axs[2,1].plot(alphas, normalized_non_zero, 'tab:pink')\n",
    "  axs[2, 1].set(xlabel='Alpha',ylabel='Non Zero Coeff')"
   ]
  },
  {
   "cell_type": "code",
   "execution_count": 136,
   "metadata": {
    "colab": {
     "base_uri": "https://localhost:8080/",
     "height": 1000
    },
    "deletable": false,
    "executionInfo": {
     "elapsed": 1944,
     "status": "ok",
     "timestamp": 1635627819591,
     "user": {
      "displayName": "Ragul Ravisankar",
      "photoUrl": "https://lh3.googleusercontent.com/a/default-user=s64",
      "userId": "17154159332672082782"
     },
     "user_tz": 360
    },
    "id": "r8YMOCWSxZV0",
    "nbgrader": {
     "cell_type": "code",
     "checksum": "a91f6a5a0d3527ae30849d4b9e9bfaba",
     "grade": true,
     "grade_id": "a_1_2",
     "locked": false,
     "points": 5,
     "schema_version": 3,
     "solution": true,
     "task": false
    },
    "outputId": "eeb88d4e-586e-4152-8d30-3cb0593cecd9",
    "pycharm": {
     "name": "#%%\n"
    }
   },
   "outputs": [
    {
     "data": {
      "image/png": "[encoded data removed]",
      "text/plain": [
       "<Figure size 720x720 with 6 Axes>"
      ]
     },
     "metadata": {
      "needs_background": "light"
     },
     "output_type": "display_data"
    },
    {
     "data": {
      "image/png": "[encoded data removed]",
      "text/plain": [
       "<Figure size 720x720 with 6 Axes>"
      ]
     },
     "metadata": {
      "needs_background": "light"
     },
     "output_type": "display_data"
    }
   ],
   "source": [
    "alphas = [1, 50, 100, 200, 1000]\n",
    "# Workspace 1.2\n",
    "#BEGIN \n",
    "#code here\n",
    "\n",
    "rmse, normalized_rmse, non_zero, normalized_non_zero, norm_w, normalized_norm_w = compute_data_for_graph(cloud_data,alphas,'Ridge')\n",
    "plot_graph(rmse, normalized_rmse, norm_w, normalized_norm_w, non_zero, normalized_non_zero,\"Cloud Dataset\")\n",
    "\n",
    "rmse, normalized_rmse, non_zero, normalized_non_zero, norm_w, normalized_norm_w = compute_data_for_graph(forest_data,alphas,'Ridge')\n",
    "plot_graph(rmse, normalized_rmse, norm_w, normalized_norm_w, non_zero, normalized_non_zero,\"Forest Dataset\")\n",
    "\n",
    "#END"
   ]
  },
  {
   "cell_type": "markdown",
   "metadata": {
    "deletable": false,
    "editable": false,
    "id": "nIbWJG_KxZV1",
    "nbgrader": {
     "cell_type": "markdown",
     "checksum": "dc7e2c2053991ca687b6d5610e0a5c11",
     "grade": false,
     "grade_id": "lasso_intro",
     "locked": true,
     "schema_version": 3,
     "solution": false,
     "task": false
    }
   },
   "source": [
    "Based on the results from previous questions, you should have noticed that the interpretation of Ridge regression is not an easy task.\n",
    "One way to solve that is to use a regularization that adds _sparsity_ to $\\mathbf w$ and excludes less important features.\n",
    "That's what Lasso regression is about.\n",
    "\n",
    "Lasso uses $l_1$ norm in the regularization term and minimizes:\n",
    "\\begin{align}\n",
    "\\frac{1}{2N}\\sum_i ||y_i-\\mathbf{w}^t x_i -b||^2 + \\alpha||\\mathbf{w}||_1\n",
    "\\end{align}\n",
    "\n",
    "It is part of scikit package ([more details](http://scikit-learn.org/stable/modules/generated/sklearn.linear_model.Lasso.html))\n",
    "and you're free to compare your implementation to scikit's.\n",
    "\n",
    "Unfortunately, there is no closed form solution for Lasso. Instead, we have powerful algorithms to optimize it.\n",
    "We will be using lasso-path solver from scikit-learn for our implementation to find $\\mathbf w^*$\n",
    "([see more](https://scikit-learn.org/stable/modules/generated/sklearn.linear_model.lasso_path.html#sklearn.linear_model.lasso_path)).\n",
    "(Note that `lasso_path` takes a list of $\\alpha$ in the argument `alphas` and not a scalar.)\n",
    "\n",
    "Similar to Ridge's, $ \\mathbf w^* $ is computed using lasso_path with the centered features $\\hat{X}$.\n",
    "Once $\\mathbf w^*$ is found, $b^*$ uses the same formula from Ridge regression.\n",
    "\n",
    "1.3 *[5 points]* Complete the Lasso class in the same way Ridge class was created. (You may use inheritance for a concise code.)"
   ]
  },
  {
   "cell_type": "code",
   "execution_count": 137,
   "metadata": {
    "deletable": false,
    "executionInfo": {
     "elapsed": 11,
     "status": "ok",
     "timestamp": 1635627819592,
     "user": {
      "displayName": "Ragul Ravisankar",
      "photoUrl": "https://lh3.googleusercontent.com/a/default-user=s64",
      "userId": "17154159332672082782"
     },
     "user_tz": 360
    },
    "id": "qhCqb4k_xZV1",
    "nbgrader": {
     "cell_type": "code",
     "checksum": "99fcb1a874198b290b80633930bc3e71",
     "grade": false,
     "grade_id": "lasso_code",
     "locked": false,
     "schema_version": 3,
     "solution": true,
     "task": false
    },
    "pycharm": {
     "name": "#%%\n"
    }
   },
   "outputs": [],
   "source": [
    "from sklearn.linear_model import lasso_path\n",
    "\n",
    "\n",
    "class Lasso(Ridge):\n",
    "    def __init__(self, alpha, normalize = False):\n",
    "        \"\"\"\n",
    "        :param alpha: regularization parameter\n",
    "        :param normalize: boolean whether to normalize the features or not\n",
    "        \"\"\"\n",
    "\n",
    "        self.alpha = alpha # our tuning / regularization parameter\n",
    "        self.coef_ = None # our weights vector, w (in formulae above)\n",
    "        self.intercept = None # our intercept parameter, b (in formulae above)\n",
    "        self.normalize = normalize # boolean whether to normalize the features or not\n",
    "        self.scaler = StandardScaler() # method by which to normalize the features (depends on self.normalize)\n",
    "\n",
    "    def fit(self, X, y):\n",
    "        \"\"\"\n",
    "        Fit the lasso model, train it using the provided data\n",
    "        Calculate the number of non-zero coefficients in the model weights and the norm using np.linalg.norm\n",
    "        :param X: training features (n_samples, n_features)\n",
    "        :param y: target values (n_samples)\n",
    "        :return: tuple (number of non-zeros coefficients of w, norm of w)\n",
    "        \"\"\"\n",
    "\n",
    "        num_nonzero_coefs, coef_norm = 0, 0\n",
    "        # Workspace 1.3.a\n",
    "        # TO DO: compute w and b and store then in self.coef_ and self.intercept\n",
    "        # TO DO: call lasso_path on the centered features to compute self.coef_\n",
    "        # HINT: use self.scaler first, if and only if self.normalize is True\n",
    "        #BEGIN \n",
    "        #code here\n",
    "        scaled_data = copy.deepcopy(X)\n",
    "        if self.normalize:\n",
    "          scaled_data = self.scaler.fit_transform(scaled_data,y)\n",
    "\n",
    "        mean_of_all_features = scaled_data.mean(axis = 0)\n",
    "        centered_data = scaled_data - mean_of_all_features \n",
    "\n",
    "        _, coef_path, _ = lasso_path(centered_data, y, alphas=[self.alpha])\n",
    "\n",
    "\n",
    "        self.coef_ = coef_path.flatten()\n",
    "\n",
    "        results = []\n",
    "        for idx in range(0,len(scaled_data)):\n",
    "          sum =(y[idx]-(np.dot(np.transpose(self.coef_),scaled_data[idx])))\n",
    "          results.append(sum)\n",
    "          \n",
    "        b = np.average(results)\n",
    "        self.intercept = b\n",
    "\n",
    "        num_nonzero_coefs = np.count_nonzero(self.coef_)\n",
    "        coef_norm = np.linalg.norm(self.coef_)\n",
    "\n",
    "        #END\n",
    "        return num_nonzero_coefs, coef_norm\n",
    "\n",
    "    def evaluate(self, test_x, test_y):\n",
    "        \"\"\"\n",
    "        Compute Root mean square error (RMSE) between the predicted values and the actual values  of the test data\n",
    "        :param test_x: test features\n",
    "        :param test_y: test target\n",
    "        :return: RMSE\n",
    "        \"\"\"\n",
    "        root_mean_squared_error=0\n",
    "        # Workspace 1.3.b\n",
    "        #BEGIN \n",
    "        #code here\n",
    "        root_mean_squared_error = super().evaluate(test_x,test_y)\n",
    "        #END\n",
    "        return root_mean_squared_error"
   ]
  },
  {
   "cell_type": "code",
   "execution_count": 138,
   "metadata": {
    "deletable": false,
    "editable": false,
    "executionInfo": {
     "elapsed": 7,
     "status": "ok",
     "timestamp": 1635627819592,
     "user": {
      "displayName": "Ragul Ravisankar",
      "photoUrl": "https://lh3.googleusercontent.com/a/default-user=s64",
      "userId": "17154159332672082782"
     },
     "user_tz": 360
    },
    "id": "5jJ8UJ1jxZV2",
    "nbgrader": {
     "cell_type": "code",
     "checksum": "1d1d56dc4a0ecd263e07b75e82b284e1",
     "grade": true,
     "grade_id": "a_1_3",
     "locked": true,
     "points": 5,
     "schema_version": 3,
     "solution": false,
     "task": false
    },
    "pycharm": {
     "name": "#%%\n"
    }
   },
   "outputs": [],
   "source": [
    "# Tests cell, do not remove\n",
    "# Test non-normalized Lasso\n",
    "coef_raw = np.array([83.36110924, 15.21050409, 79.08888918])\n",
    "intercept_raw = -2.9950281444221063\n",
    "reg = Lasso(alpha=2, normalize=False)\n",
    "reg.fit(sanity_X,sanity_y)\n",
    "assert np.alltrue(np.isclose(coef_raw, reg.coef_, atol=1e-5)) and np.isclose(intercept_raw, reg.intercept, atol=1e-5)\n",
    "\n",
    "# Test normalized Lasso\n",
    "coef_norm = np.array([82.32525113, 19.25895655, 56.15183344])\n",
    "intercept_norm = -7.502412860000005\n",
    "reg = Lasso(alpha=2, normalize=True)\n",
    "reg.fit(sanity_X,sanity_y)\n",
    "assert np.alltrue(np.isclose(coef_norm, reg.coef_, atol=1e-5)) and np.isclose(intercept_norm, reg.intercept, atol=1e-5)"
   ]
  },
  {
   "cell_type": "markdown",
   "metadata": {
    "deletable": false,
    "editable": false,
    "id": "6NZu30t9xZV2",
    "nbgrader": {
     "cell_type": "markdown",
     "checksum": "6df7a41d33c42c2f59a16bee2e7b705c",
     "grade": false,
     "grade_id": "q_1_4",
     "locked": true,
     "schema_version": 3,
     "solution": false,
     "task": false
    },
    "pycharm": {
     "name": "#%% md\n"
    }
   },
   "source": [
    "- 1.4 *[5 points]* For each of the datasets, produce 3 plots as a function of $\\alpha$ that compares normalized versus non-normalized Lasso:\n",
    "    - The number non-zero coefficients\n",
    "    - The norm of $\\mathbf w$\n",
    "    - The test RMSE\n",
    "\n",
    "Use $\\alpha = 0.01, 0.05, 0.1, 0.2, 0.3, 1.0$.\n",
    "\n",
    "Can you get all coefficients of $\\mathbf w$ to 0?\n"
   ]
  },
  {
   "cell_type": "code",
   "execution_count": 139,
   "metadata": {
    "colab": {
     "base_uri": "https://localhost:8080/",
     "height": 1000
    },
    "deletable": false,
    "executionInfo": {
     "elapsed": 1948,
     "status": "ok",
     "timestamp": 1635627821533,
     "user": {
      "displayName": "Ragul Ravisankar",
      "photoUrl": "https://lh3.googleusercontent.com/a/default-user=s64",
      "userId": "17154159332672082782"
     },
     "user_tz": 360
    },
    "id": "ITY1HwTwxZV3",
    "nbgrader": {
     "cell_type": "code",
     "checksum": "53111da0a74bc9366690a16d2bd4e674",
     "grade": true,
     "grade_id": "a_1_4",
     "locked": false,
     "points": 5,
     "schema_version": 3,
     "solution": true,
     "task": false
    },
    "outputId": "bf878215-05f1-4979-dc99-eeb1348dd1a9",
    "pycharm": {
     "name": "#%%\n"
    }
   },
   "outputs": [
    {
     "data": {
      "image/png": "[encoded data removed]",
      "text/plain": [
       "<Figure size 720x720 with 6 Axes>"
      ]
     },
     "metadata": {
      "needs_background": "light"
     },
     "output_type": "display_data"
    },
    {
     "data": {
      "image/png": "[encoded data removed]",
      "text/plain": [
       "<Figure size 720x720 with 6 Axes>"
      ]
     },
     "metadata": {
      "needs_background": "light"
     },
     "output_type": "display_data"
    }
   ],
   "source": [
    "alphas = [0.01, 0.05, 0.1, 0.2, 0.3, 1.0]\n",
    "# Workspace 1.4\n",
    "#BEGIN \n",
    "#code here\n",
    "rmse, normalized_rmse, non_zero, normalized_non_zero, norm_w, normalized_norm_w = compute_data_for_graph(cloud_data,alphas,'Lasso')\n",
    "plot_graph(rmse, normalized_rmse, norm_w, normalized_norm_w, non_zero, normalized_non_zero,\"Cloud Dataset\")\n",
    "\n",
    "rmse, normalized_rmse, non_zero, normalized_non_zero, norm_w, normalized_norm_w = compute_data_for_graph(forest_data,alphas,'Lasso')\n",
    "plot_graph(rmse, normalized_rmse, norm_w, normalized_norm_w, non_zero, normalized_non_zero,\"Forest Dataset\")\n",
    "#END"
   ]
  },
  {
   "cell_type": "markdown",
   "metadata": {
    "deletable": false,
    "editable": false,
    "id": "BfB1qLAVxZV3",
    "nbgrader": {
     "cell_type": "markdown",
     "checksum": "1b88ff993965cabbc2cc8dec24e20719",
     "grade": false,
     "grade_id": "q1_5",
     "locked": true,
     "schema_version": 3,
     "solution": false,
     "task": false
    }
   },
   "source": [
    "1.5 *[5 points]* (Write-up) Compare the two algorithms on each data set: compare the number of non-zero coordinates of Ridge vs Lasso and their MSE on each dataset.\n",
    "Which type of regression is better for each dataset? When does normalization improve the regression?"
   ]
  },
  {
   "cell_type": "markdown",
   "metadata": {
    "id": "v7Y8ZSAFDlkd"
   },
   "source": [
    "**Number of Non-zero coefficients:**\n",
    "\n",
    "**Ridge:** \n",
    "\n",
    "Number of non zero coefficients remain the same for both data sets before and after normalizing. \n",
    "\n",
    "Cloud Data - 9 (for both cases)\n",
    "Forest Data - 10 (for both cases)\n",
    "\n",
    "\n",
    "**Lasso:**\n",
    "\n",
    "Number of non zero coefficients drops to zero in both data sets after normalizing.\n",
    "\n",
    "Cloud data\n",
    "\n",
    "*   Normalized: Varies from 4 to 0\n",
    "*   Not normalized: Varies from 9 to 5.\n",
    "\n",
    "Forest Data\n",
    "\n",
    "*   Not Normalized: Varies from 10 to 3\n",
    "*   Normalized: Varies from 8 to 0.\n",
    "\n",
    "\n",
    "**RMSE:**\n",
    "\n",
    "**Ridge**\n",
    "\n",
    "For any alpha, RMSE value is higher for Cloud data set when normalized whereas it's lower for Forest data when normalized.\n",
    "\n",
    "**Lasso**\n",
    "\n",
    "For any alpha, RMSE value is lower when normalized for both Cloud and Forest data"
   ]
  },
  {
   "cell_type": "markdown",
   "metadata": {
    "deletable": false,
    "id": "Kn6oCybixZV3",
    "nbgrader": {
     "cell_type": "markdown",
     "checksum": "66769a7f3015b1d06a8a34dd7c6022db",
     "grade": true,
     "grade_id": "a_1_5",
     "locked": false,
     "points": 5,
     "schema_version": 3,
     "solution": true,
     "task": false
    }
   },
   "source": [
    "# Workspace 1.5\n",
    "\n",
    "\n"
   ]
  },
  {
   "cell_type": "markdown",
   "metadata": {
    "deletable": false,
    "editable": false,
    "id": "N6-eJ2J1xZV3",
    "nbgrader": {
     "cell_type": "markdown",
     "checksum": "62516c2fae2591303b30465f93fad79d",
     "grade": false,
     "grade_id": "elastic_intro",
     "locked": true,
     "schema_version": 3,
     "solution": false,
     "task": false
    },
    "pycharm": {
     "name": "#%% md\n"
    }
   },
   "source": [
    "Lasso is expected to have higher level of sparsity compared to Ridge. On the other hand, when the number of features is very large\n",
    "(larger than the sample size), Lasso can struggle at picking the right features.\n",
    "Elastic Net try to combine both types of regularization to get the best of both worlds by minimizing:\n",
    "\n",
    "\\begin{align}\n",
    "\\frac{1}{2N} \\sum_i ||y_i - \\mathbf{w}^Tx_i -b||^2_2 + \\alpha\\beta||\\mathbf{w}||_1 + \\frac{\\alpha}{2}(1 - \\beta)||\\mathbf{w}||^2_2\n",
    "\\end{align}\n",
    "\n",
    "where $\\beta\\in[0,1]$ is the $l_1$ ratio ($\\beta=1$ for Lasso and $\\beta=0$ for Ridge).\n",
    "\n",
    "We'll be using ElasticNet solver from [sklearn](https://scikit-learn.org/stable/modules/generated/sklearn.linear_model.ElasticNet.html).\n",
    "\n",
    "- 1.6 *[5 points]* Complete ElasticNet regression class `Elastic` by implementing fit and evaluate methods with the same signature as Lasso and Ridge."
   ]
  },
  {
   "cell_type": "code",
   "execution_count": 140,
   "metadata": {
    "deletable": false,
    "executionInfo": {
     "elapsed": 8,
     "status": "ok",
     "timestamp": 1635627821534,
     "user": {
      "displayName": "Ragul Ravisankar",
      "photoUrl": "https://lh3.googleusercontent.com/a/default-user=s64",
      "userId": "17154159332672082782"
     },
     "user_tz": 360
    },
    "id": "t73VXwkAxZV4",
    "nbgrader": {
     "cell_type": "code",
     "checksum": "7ce4fb7b16dd723b47430cf42d2efa26",
     "grade": false,
     "grade_id": "elastic_code",
     "locked": false,
     "schema_version": 3,
     "solution": true,
     "task": false
    },
    "pycharm": {
     "name": "#%%\n"
    }
   },
   "outputs": [],
   "source": [
    "from sklearn.linear_model import ElasticNet\n",
    "\n",
    "\n",
    "class Elastic(Ridge):\n",
    "    def __init__(self, alpha, beta=0.5, normalize=False):\n",
    "        \"\"\"\n",
    "        :param alpha: regularization parameter\n",
    "        :param beta: l1_ratio for ElasticNet\n",
    "        :param normalize: normalization flag\n",
    "        \"\"\"\n",
    "        self.alpha = alpha\n",
    "        self.beta = beta\n",
    "        self.normalize = normalize\n",
    "        self.scaler = StandardScaler()\n",
    "        self._model = ElasticNet(alpha=alpha, l1_ratio=beta)\n",
    "\n",
    "    def fit(self, X, y):\n",
    "        \"\"\"\n",
    "        fit self._model using the provided data and store the coef and intercept in self.coef_ and self.intercept\n",
    "        Calculate the number of non-zero coefficients in the model weights and the norm using np.linalg.norm\n",
    "        :param X: training features (n_samples, n_features)\n",
    "        :param y: target values (n_samples)\n",
    "        :return: tuple (number of non-zeros coefficients of w, norm of w)\n",
    "        \"\"\"\n",
    "\n",
    "        num_nonzero_coefs, coef_norm = 0, 0\n",
    "        # Workspace 1.6.a\n",
    "        # TO DO: Complete Elastic Net\n",
    "        # TO DO: save w and b in self.coef_ and self.intercept respectively\n",
    "        #BEGIN \n",
    "        #code here\n",
    "        scaled_data = copy.deepcopy(X)\n",
    "        if self.normalize:\n",
    "          scaled_data = self.scaler.fit_transform(scaled_data,y)\n",
    "        self._model.fit(scaled_data, y)\n",
    "\n",
    "        self.coef_ = self._model.coef_\n",
    "        self.intercept = self._model.intercept_\n",
    "\n",
    "        num_nonzero_coefs = np.count_nonzero(self.coef_)\n",
    "        coef_norm = np.linalg.norm(self.coef_)\n",
    "\n",
    "        #END\n",
    "        return num_nonzero_coefs, coef_norm\n",
    "\n",
    "    def evaluate(self, test_x, test_y):\n",
    "        \"\"\"\n",
    "        Compute Root mean square error (RMSE) between the predicted values and the actual values  of the test data\n",
    "        :param test_x: test features\n",
    "        :param test_y: test target\n",
    "        :return: RMSE\n",
    "        \"\"\"\n",
    "        root_mean_squared_error = 0\n",
    "        # Workspace 1.6.b\n",
    "        #BEGIN \n",
    "        #code here\n",
    "        root_mean_squared_error = super().evaluate(test_x,test_y)\n",
    "        #END\n",
    "        return root_mean_squared_error"
   ]
  },
  {
   "cell_type": "code",
   "execution_count": 141,
   "metadata": {
    "deletable": false,
    "editable": false,
    "executionInfo": {
     "elapsed": 7,
     "status": "ok",
     "timestamp": 1635627821535,
     "user": {
      "displayName": "Ragul Ravisankar",
      "photoUrl": "https://lh3.googleusercontent.com/a/default-user=s64",
      "userId": "17154159332672082782"
     },
     "user_tz": 360
    },
    "id": "D8Ka91FrxZV4",
    "nbgrader": {
     "cell_type": "code",
     "checksum": "fb3edd120c47934d858a1f6c3c150748",
     "grade": true,
     "grade_id": "a_1_6",
     "locked": true,
     "points": 5,
     "schema_version": 3,
     "solution": false,
     "task": false
    },
    "pycharm": {
     "name": "#%%\n"
    }
   },
   "outputs": [],
   "source": [
    "# Tests cell, do not remove\n",
    "\n",
    "# Test unnormalized ElasticNet\n",
    "coef_raw = np.array([53.27862827, 10.94209836, 33.96771899])\n",
    "intercept_raw = -7.796083758223746\n",
    "reg = Elastic(alpha=2, beta=0.5, normalize=False)\n",
    "reg.fit(sanity_X, sanity_y)\n",
    "assert np.alltrue(np.isclose(coef_raw, reg.coef_, atol=1e-5)) and np.isclose(intercept_raw, reg.intercept, atol=1e-5)\n",
    "# Test normalized Elastic\n",
    "coef_norm = np.array([48.11601119, 14.15394196, 38.74380055])\n",
    "intercept_norm = -7.502412860000006\n",
    "reg = Elastic(alpha=2, beta=0.5, normalize=True)\n",
    "reg.fit(sanity_X, sanity_y)\n",
    "assert np.alltrue(np.isclose(coef_norm, reg.coef_, atol=1e-5)) and np.isclose(intercept_norm, reg.intercept, atol=1e-5)"
   ]
  },
  {
   "cell_type": "markdown",
   "metadata": {
    "deletable": false,
    "editable": false,
    "id": "tBSToYfgxZV4",
    "nbgrader": {
     "cell_type": "markdown",
     "checksum": "eadf1cfef9555522902ca05b73fb1574",
     "grade": false,
     "grade_id": "q_1_7",
     "locked": true,
     "schema_version": 3,
     "solution": false,
     "task": false
    },
    "pycharm": {
     "name": "#%% md\n"
    }
   },
   "source": [
    "- 1.7 *[5 points]* For each of the datasets, produce 3 plots as a function of $\\alpha$ that compares normalized versus non-normalized ElasticNet:\n",
    "    - The number non-zero coefficients\n",
    "    - The norm of $\\mathbf{w}$\n",
    "    - The test RMSE\n",
    "\n",
    "Use $\\alpha = 0.01, 0.05, 0.1, 0.2, 0.3, 0.5 , 1.0$ and $\\beta= 0.5$."
   ]
  },
  {
   "cell_type": "code",
   "execution_count": 142,
   "metadata": {
    "colab": {
     "base_uri": "https://localhost:8080/",
     "height": 1000
    },
    "deletable": false,
    "executionInfo": {
     "elapsed": 1542,
     "status": "ok",
     "timestamp": 1635627823071,
     "user": {
      "displayName": "Ragul Ravisankar",
      "photoUrl": "https://lh3.googleusercontent.com/a/default-user=s64",
      "userId": "17154159332672082782"
     },
     "user_tz": 360
    },
    "id": "6vIX2hyoxZV4",
    "nbgrader": {
     "cell_type": "code",
     "checksum": "0d0d53858ea512d6942bb1e7df9346f3",
     "grade": true,
     "grade_id": "a_1_7",
     "locked": false,
     "points": 5,
     "schema_version": 3,
     "solution": true,
     "task": false
    },
    "outputId": "4ee727bf-8ae0-4685-d182-824f1e34b24c",
    "pycharm": {
     "name": "#%%\n"
    }
   },
   "outputs": [
    {
     "data": {
      "image/png": "[encoded data removed]",
      "text/plain": [
       "<Figure size 720x720 with 6 Axes>"
      ]
     },
     "metadata": {
      "needs_background": "light"
     },
     "output_type": "display_data"
    },
    {
     "data": {
      "image/png": "[encoded data removed]",
      "text/plain": [
       "<Figure size 720x720 with 6 Axes>"
      ]
     },
     "metadata": {
      "needs_background": "light"
     },
     "output_type": "display_data"
    }
   ],
   "source": [
    "alphas = [ 0.01, 0.05, 0.1, 0.2, 0.3, 0.5 , 1.0]\n",
    "beta = 0.5\n",
    "# Workspace 1.7\n",
    "#BEGIN \n",
    "#code here\n",
    "rmse, normalized_rmse, non_zero, normalized_non_zero, norm_w, normalized_norm_w = compute_data_for_graph(cloud_data,alphas,'Elastic', beta)\n",
    "plot_graph(rmse, normalized_rmse, norm_w, normalized_norm_w, non_zero, normalized_non_zero,\"Cloud Dataset\")\n",
    "\n",
    "rmse, normalized_rmse, non_zero, normalized_non_zero, norm_w, normalized_norm_w = compute_data_for_graph(forest_data,alphas,'Elastic', beta)\n",
    "plot_graph(rmse, normalized_rmse, norm_w, normalized_norm_w, non_zero, normalized_non_zero,\"Forest Dataset\")\n",
    "\n",
    "#END"
   ]
  },
  {
   "cell_type": "markdown",
   "metadata": {
    "deletable": false,
    "editable": false,
    "id": "hXfgb4SVxZV5",
    "nbgrader": {
     "cell_type": "markdown",
     "checksum": "481fba3e49b1e4d87afb342df753ef9e",
     "grade": false,
     "grade_id": "q_1_8",
     "locked": true,
     "schema_version": 3,
     "solution": false,
     "task": false
    }
   },
   "source": [
    "1.8 *[5 points]* What are the cons and pros of each of three types of regressions we have implemented?"
   ]
  },
  {
   "cell_type": "markdown",
   "metadata": {
    "deletable": false,
    "id": "x5Jk1v8pxZV5",
    "nbgrader": {
     "cell_type": "markdown",
     "checksum": "a6765fd033bc3c4cba48545212a0ae19",
     "grade": true,
     "grade_id": "a_1_8",
     "locked": false,
     "points": 5,
     "schema_version": 3,
     "solution": true,
     "task": false
    },
    "pycharm": {
     "name": "#%% md\n"
    }
   },
   "source": [
    "# Workspace 1.8\n",
    "\n",
    "**Lasso Regression**\n",
    "\n",
    "**Advantages**\n",
    "\n",
    "1. Most of the feature coeffecients reaches to zero therefore we can acheive faster convergence. \n",
    "\n",
    "2. Also we can get the feature importance (which features are more important by looking at the non-zero features).\n",
    "\n",
    "3. Reduces Overfitting\n",
    "\n",
    "**Disadvantages**\n",
    "\n",
    "1. Performance is worse when compared to ridge regression\n",
    "\n",
    "2. The result of Lasso regression is inconsistent. For different bootstrapped data, the selected features can be very different.\n",
    "\n",
    "\n",
    "**Ridge Regression**\n",
    "\n",
    "**Advantages**\n",
    "\n",
    "1. Handles well, when multi-collinearity is present in the features\n",
    "\n",
    "2. Prevents Overfitting.\n",
    "\n",
    "**Disadvantages**\n",
    "\n",
    "1. Feature - Importance / Interpretablility is low compared when compared to Lasso Regression.\n",
    "\n",
    "2. Ridge regression reduces the coefficients value to very low values if the feature is not important, but it won't completely make them zero, hence still using the feature in our model. Lasso regression overcomes this drawback.\n",
    "\n",
    "**ElasticNet**\n",
    "\n",
    "**Advantages**\n",
    "\n",
    "1. Combines both ridge and lasso which helps in reducing the impact of features without elimination.\n",
    "\n",
    "**Disadvantages**\n",
    "\n",
    "\n"
   ]
  },
  {
   "cell_type": "markdown",
   "metadata": {
    "deletable": false,
    "editable": false,
    "id": "hRkng-FIxZV5",
    "nbgrader": {
     "cell_type": "markdown",
     "checksum": "15eb1372f75e304dd11532388abde71d",
     "grade": false,
     "grade_id": "problem2",
     "locked": true,
     "schema_version": 3,
     "solution": false,
     "task": false
    }
   },
   "source": [
    "***\n",
    "## Problem 2: Logistic Regression for Binary Classification (35 points)\n",
    "\n",
    "The second part of this assignment will be dealing with Logistic Regression.\n",
    "While the name \"regression\" suggests otherwise, Logistic Regression is actually used for classification.\n",
    "It's a regression problem because the targets are the continuous likelihoods of the outcomes.\n",
    "\n",
    "Our dataset is a subset of the MNIST dataset, which has a higher resolution compared to the sklearn's digits data seen in HW1.\n",
    "\n",
    "In this problem you'll implement a Logistic Regression classifier to take drawings of either an eight\n",
    "or a nine and output the corresponding label."
   ]
  },
  {
   "cell_type": "code",
   "execution_count": 143,
   "metadata": {
    "deletable": false,
    "editable": false,
    "executionInfo": {
     "elapsed": 11,
     "status": "ok",
     "timestamp": 1635627823072,
     "user": {
      "displayName": "Ragul Ravisankar",
      "photoUrl": "https://lh3.googleusercontent.com/a/default-user=s64",
      "userId": "17154159332672082782"
     },
     "user_tz": 360
    },
    "id": "1hqxIyioxZV5",
    "nbgrader": {
     "cell_type": "code",
     "checksum": "24e3697dc48400bb0e31ad18c95c2995",
     "grade": false,
     "grade_id": "binary_mnist",
     "locked": true,
     "schema_version": 3,
     "solution": false,
     "task": false
    },
    "pycharm": {
     "name": "#%%\n"
    }
   },
   "outputs": [],
   "source": [
    "class BinaryMNIST:\n",
    "    \"\"\"\n",
    "    Class to store MNIST data for images of 9 and 8 only\n",
    "    \"\"\"\n",
    "    def __init__(self, location='/content/drive/MyDrive/PS3_5622/data/mnist.pklz'): #./data/mnist.pklz\n",
    "        # You shouldn't have to modify this class\n",
    "        # Load the dataset\n",
    "        with gzip.open(location, 'rb') as f:\n",
    "            self.train_x, self.train_y, self.test_x, self.test_y = pickle.load(f)\n",
    "\n",
    "        train_indices = np.where(self.train_y > 7)\n",
    "        self.train_x, self.train_y = self.train_x[train_indices], self.train_y[train_indices]\n",
    "        self.train_y = self.train_y - 8\n",
    "\n",
    "        test_indices = np.where(self.test_y > 7)\n",
    "        self.test_x, self.test_y = self.test_x[test_indices], self.test_y[test_indices]\n",
    "        self.test_y = self.test_y - 8\n",
    "\n",
    "binary_mnist = BinaryMNIST()"
   ]
  },
  {
   "cell_type": "markdown",
   "metadata": {
    "deletable": false,
    "editable": false,
    "id": "u07ofjKLxZV5",
    "nbgrader": {
     "cell_type": "markdown",
     "checksum": "90448a86a01b09650871ffb7adee4c93",
     "grade": false,
     "grade_id": "q_2_1",
     "locked": true,
     "schema_version": 3,
     "solution": false,
     "task": false
    },
    "pycharm": {
     "name": "#%% md\n"
    }
   },
   "source": [
    "Logistic Regression is about minimizing the negative log likelihood objective defined as:\n",
    "\\begin{align}\n",
    "\\textrm{NLL}(\\mathbf{w}) = -\\frac{1}{N}\\sum_{i=1}^N \\left[y_i \\log \\sigma(\\mathbf{w}^T{x_i}) + (1-y_i)\\log(1 - \\sigma(\\mathbf{w}^Tx_i))\\right]\n",
    "\\end{align}\n",
    "\n",
    "You might be wondering: where is the intercept?\n",
    "We're including the intercept in $(x_i)_i$ since we'll be adding a constant column to the $(x_i)_i$.\n",
    "We will call it the zero-th column and the intercept will be $\\mathbf{w}_0$.\n",
    "\n",
    "$\\sigma$ is the sigmoid function seen in class.\n",
    "\n",
    "The gradient of $NLL$ w.r.t $\\mathbf{w}$ is:\n",
    "\n",
    "\\begin{align}\n",
    "\\frac{\\partial \\textrm{NLL}}{\\partial \\mathbf{w}} = \\frac{1}{N} \\sum_i \\left[\\sigma(\\mathbf{w}^Tx_i)-y_i)\\right]x_i\n",
    "\\end{align}"
   ]
  },
  {
   "cell_type": "markdown",
   "metadata": {
    "deletable": false,
    "editable": false,
    "id": "JLivuC3wxZV5",
    "nbgrader": {
     "cell_type": "markdown",
     "checksum": "152489d1f4d1dec19dae2dad13d66f53",
     "grade": false,
     "grade_id": "questions2",
     "locked": true,
     "schema_version": 3,
     "solution": false,
     "task": false
    },
    "pycharm": {
     "name": "#%% md\n"
    }
   },
   "source": [
    "- 2.1 *[2.5 points]* Finish the `score` function to return the output of applying\n",
    "the dot product of the weights with the input parameter\n",
    "\n",
    "- 2.2 *[2.5 points]* Finish the `sigmoid` function to return the output of applying the sigmoid function to the calculated score\n",
    "\n",
    "- 2.3 *[2.5 points]* Finish the `compute_gradient` function to return the derivative of the cost w.r.t. the weights\n",
    "\n",
    "- 2.4 *[5 points]* Finish the `batch_update` function so that it performs batch gradient descent using the provided batch data\n",
    "\n",
    "- 2.5 *[5 points]* Finish the `fit` function so that it performs several training epochs and returns the Recall score on\n",
    "the validation data at the end of each epoch."
   ]
  },
  {
   "cell_type": "code",
   "execution_count": 144,
   "metadata": {
    "deletable": false,
    "executionInfo": {
     "elapsed": 11,
     "status": "ok",
     "timestamp": 1635627823073,
     "user": {
      "displayName": "Ragul Ravisankar",
      "photoUrl": "https://lh3.googleusercontent.com/a/default-user=s64",
      "userId": "17154159332672082782"
     },
     "user_tz": 360
    },
    "id": "Fyslr3X1xZV6",
    "nbgrader": {
     "cell_type": "code",
     "checksum": "2b28aba58dcc97863eb02c6937e83997",
     "grade": false,
     "grade_id": "logreg_code",
     "locked": false,
     "schema_version": 3,
     "solution": true,
     "task": false
    },
    "pycharm": {
     "name": "#%%\n"
    }
   },
   "outputs": [],
   "source": [
    "from sklearn.metrics import recall_score\n",
    "\n",
    "class LogisticRegression:\n",
    "\n",
    "    def __init__(self, eta = 0.1, alpha=0):\n",
    "        \"\"\"\n",
    "        Create a logistic regression classifier\n",
    "        :param eta: Learning rate\n",
    "        :param alpha: We will use this parameter later (IN BONUS)\n",
    "        \"\"\"\n",
    "\n",
    "        self.w = None # uninitialized w\n",
    "        self.eta = eta # learning rate\n",
    "        self.alpha = alpha # regularization / penalty term (USED IN BONUS)\n",
    "\n",
    "    def score(self, x):\n",
    "        \"\"\"\n",
    "        :param x: This can be a single training example or it could be n training examples\n",
    "        :return score: Calculate the score that you will plug into the logistic function\n",
    "        \"\"\"\n",
    "\n",
    "        # Workspace 2.1\n",
    "        # TO DO: Compute the score to be fed to the sigmoid function\n",
    "        #BEGIN \n",
    "        #code here\n",
    "        scores = []\n",
    "\n",
    "        if x.ndim == 1:\n",
    "          scores.append(np.dot(self.w,x))\n",
    "          return np.array(scores)\n",
    "\n",
    "        for idx, feature in enumerate(x):\n",
    "            scores.append(np.dot(self.w,feature))\n",
    "        return np.array(scores)   \n",
    "        #END\n",
    "\n",
    "\n",
    "    def sigmoid(self, score, threshold=25.0):\n",
    "        \"\"\"\n",
    "        :param score: Either a real valued number or a vector to convert into a number between 0 and 1\n",
    "        :param threshold : Capping activations at 25 prevent overflow of np.exp() function.\n",
    "        return sigmoid function result.\n",
    "        :return sigmoid: Calculate the output of applying the sigmoid function to the score. This could be a single\n",
    "        value or a vector depending on the input.\n",
    "        \"\"\"\n",
    "        # Workspace 2.2\n",
    "        # TO DO: Complete this function to return the output of applying the sigmoid function to the score\n",
    "        #BEGIN \n",
    "        #code here\n",
    "        score = np.clip(score,-threshold, threshold)\n",
    "        def sigmoid_compute(new_score):\n",
    "          computed_sigmoid = 1/(1+np.exp(-new_score))\n",
    "          return computed_sigmoid\n",
    "\n",
    "        if not isinstance(score, np.ndarray):\n",
    "          return sigmoid_compute(score)\n",
    "\n",
    "        sigmoid_values = [sigmoid_compute(score_values) for score_values in score]\n",
    "        return np.array(sigmoid_values)\n",
    "        \n",
    "        #END\n",
    "\n",
    "    def compute_gradient(self, x, h, y):\n",
    "        \"\"\"\n",
    "        :param x: Feature vector\n",
    "        :param h: the sigmoid of the scores computed from x\n",
    "        :param y: real class label\n",
    "        :return gradient: Return the derivative of the cost w.r.t to the weights. Don't forget to average by batch_size\n",
    "        \"\"\"\n",
    "        # Workspace 2.3\n",
    "        # TO DO: Finish this function to compute the gradient\n",
    "        #BEGIN \n",
    "        #code here\n",
    "        N = len(x)\n",
    "        gradient = np.zeros(len(x[0]))\n",
    "        for idx in range(len(h)):\n",
    "          gradient = np.add(gradient,(h[idx]-y[idx])*x[idx])\n",
    "        gradient = gradient/N\n",
    "        gradient[1:] = gradient[1:] + (2*self.alpha)*(self.w[1:])\n",
    "        return gradient;\n",
    "        #END\n",
    "\n",
    "    def batch_update(self, batch_x, batch_y):\n",
    "        \"\"\"\n",
    "        Single self.w update using the batch.\n",
    "        :param batch_x: NumPy array of features (includes the constant feature at position 0)\n",
    "        :param batch_y: Numpy array of target values (size : size of batch )\n",
    "        :return: nothing\n",
    "        \"\"\"\n",
    "        # Workspace 2.4\n",
    "        #BEGIN \n",
    "        #code here\n",
    "        scores = self.score(batch_x)\n",
    "        sigmoid_values = self.sigmoid(scores)\n",
    "        gradient_vector = self.compute_gradient(batch_x,sigmoid_values,batch_y)\n",
    "        self.w = self.w - (self.eta * gradient_vector)\n",
    "        #END\n",
    "\n",
    "    def fit(self, X, y, epochs=1, batch_size=1, validation_X=None, validation_y=None):\n",
    "        \"\"\"\n",
    "        :param X: training features\n",
    "        :param y: training labels\n",
    "        :param epochs: number of epochs\n",
    "        :param batch_size: size of batch for gradient update\n",
    "        :param validation_X: validation rows, should default to training data if not provided\n",
    "        :param validation_y: validation labels\n",
    "        :return: metric value at the end of each epoch on validation data\n",
    "        \"\"\"\n",
    "\n",
    "        if validation_X is None:\n",
    "            validation_X, validation_y = X, y\n",
    "        metrics = []\n",
    "        # Workspace  2.5\n",
    "        # TO DO: Process x to append the zero-th constant column and call self.optimize\n",
    "        # TO DO: Compute average recall on the validation data at the end of each apoch\n",
    "        # HINT: make sure to initialize w only once since fit might be called several times\n",
    "        #BEGIN \n",
    "        #code here\n",
    "        X = np.concatenate([np.ones((X.shape[0],1)), X], axis=1)\n",
    "        if self.w is None:\n",
    "          self.w = np.zeros(X.shape[1])\n",
    "        for _ in range(epochs):\n",
    "          self.optimize(X,y,batch_size)\n",
    "          y_predicted = self.predict(validation_X)\n",
    "          metrics.append(recall_score(validation_y, y_predicted))\n",
    "        #END\n",
    "        return np.array(metrics)\n",
    "\n",
    "    def predict(self, test_x):\n",
    "        \"\"\"\n",
    "        :param test_x: n rows to predict on\n",
    "        :return: n predicted labels\n",
    "        \"\"\"\n",
    "        X = np.concatenate([np.ones((test_x.shape[0],1)), test_x], axis=1)\n",
    "        return np.round(self.sigmoid(self.score(X))).astype(int)\n",
    "\n",
    "    def optimize(self, X, y, batch_size):\n",
    "        \"\"\"\n",
    "        Perform one epoch batch gradient on shuffled data\n",
    "        :param X: The training data  with zero-th column\n",
    "        :param y: target values\n",
    "        :param batch_size: batch_size of the batch_update\n",
    "        :return: None\n",
    "        \"\"\"\n",
    "        indices = np.random.permutation(len(X))\n",
    "        for i in range(0, X.shape[0], batch_size):\n",
    "            batch_x = X[indices[i:i+batch_size]]\n",
    "            batch_y = y[indices[i:i+batch_size]]\n",
    "            self.batch_update(batch_x, batch_y)\n"
   ]
  },
  {
   "cell_type": "code",
   "execution_count": 145,
   "metadata": {
    "colab": {
     "base_uri": "https://localhost:8080/"
    },
    "deletable": false,
    "editable": false,
    "executionInfo": {
     "elapsed": 10,
     "status": "ok",
     "timestamp": 1635627823073,
     "user": {
      "displayName": "Ragul Ravisankar",
      "photoUrl": "https://lh3.googleusercontent.com/a/default-user=s64",
      "userId": "17154159332672082782"
     },
     "user_tz": 360
    },
    "id": "Bib0rxSyxZV6",
    "nbgrader": {
     "cell_type": "code",
     "checksum": "f98e34f2c24f0503ded48e8ab26ac7dc",
     "grade": true,
     "grade_id": "logreg_test",
     "locked": true,
     "points": 17.5,
     "schema_version": 3,
     "solution": false,
     "task": false
    },
    "outputId": "ce27b6ad-4bd3-4e5a-a973-a379e8e8c9cf"
   },
   "outputs": [
    {
     "name": "stdout",
     "output_type": "stream",
     "text": [
      "Metric value ::  [0.975]\n"
     ]
    }
   ],
   "source": [
    "# test cell, do no remove\n",
    "logistic_regression = LogisticRegression()\n",
    "metric_value = logistic_regression.fit(binary_mnist.train_x,binary_mnist.train_y)\n",
    "print('Metric value :: ', metric_value)"
   ]
  },
  {
   "cell_type": "markdown",
   "metadata": {
    "deletable": false,
    "editable": false,
    "id": "gH5IhBfbxZV6",
    "nbgrader": {
     "cell_type": "markdown",
     "checksum": "594da6f92db91c59840d8e66a99978df",
     "grade": false,
     "grade_id": "q_2_6",
     "locked": true,
     "schema_version": 3,
     "solution": false,
     "task": false
    }
   },
   "source": [
    "After completing the class above, loop over the training data and perform batch training with `batch_size=1`for 10 epochs,\n",
    "and five different values of eta range [.0001, .01, .1, .5, 1]. Train your model and do the following:\n",
    "\n",
    "- 2.6 *[5 points]* Create a new classifier object and Using the `fit` method, plot the recall trend for the different values of eta\n",
    "on the training data. (reset random seed for each loop to mitigate the randomness effect)"
   ]
  },
  {
   "cell_type": "code",
   "execution_count": 146,
   "metadata": {
    "colab": {
     "base_uri": "https://localhost:8080/",
     "height": 265
    },
    "deletable": false,
    "executionInfo": {
     "elapsed": 6743,
     "status": "ok",
     "timestamp": 1635627829810,
     "user": {
      "displayName": "Ragul Ravisankar",
      "photoUrl": "https://lh3.googleusercontent.com/a/default-user=s64",
      "userId": "17154159332672082782"
     },
     "user_tz": 360
    },
    "id": "J2dK0CZ9xZV6",
    "nbgrader": {
     "cell_type": "code",
     "checksum": "c3d430129e5155f455157c429a8c25c3",
     "grade": true,
     "grade_id": "a2_6",
     "locked": false,
     "points": 5,
     "schema_version": 3,
     "solution": true,
     "task": false
    },
    "outputId": "b76bcad9-013f-44fe-ae10-e5ea82a3aa90",
    "pycharm": {
     "name": "#%%\n"
    }
   },
   "outputs": [
    {
     "data": {
      "image/png": "[encoded data removed]",
      "text/plain": [
       "<Figure size 432x288 with 1 Axes>"
      ]
     },
     "metadata": {
      "needs_background": "light"
     },
     "output_type": "display_data"
    }
   ],
   "source": [
    "etas = [.0001,.001,.01, 1, 5]\n",
    "for eta in etas:\n",
    "    np.random.seed(42) # Reset randomness\n",
    "    # Workspace 2.6\n",
    "    #BEGIN \n",
    "    #code \n",
    "    logistic_regression = LogisticRegression(eta=eta)\n",
    "    metric_value = logistic_regression.fit(binary_mnist.train_x,binary_mnist.train_y,epochs=10)\n",
    "    plt.plot(range(len(metric_value)),metric_value, label = str(eta))\n",
    "    #END   \n",
    "plt.legend()\n",
    "plt.show()"
   ]
  },
  {
   "cell_type": "markdown",
   "metadata": {
    "deletable": false,
    "editable": false,
    "id": "WgjifgzPxZV6",
    "nbgrader": {
     "cell_type": "markdown",
     "checksum": "58f18af52fb0d1e5b8233c70501c81bf",
     "grade": false,
     "grade_id": "q2_7",
     "locked": true,
     "schema_version": 3,
     "solution": false,
     "task": false
    }
   },
   "source": [
    "- 2.7 *[2.5 points]* Create a new classifier object and Using the `fit` method, plot the recall on the test data as function eta.\n",
    "(reset random seed for each loop to mitigate the randomness effect)"
   ]
  },
  {
   "cell_type": "code",
   "execution_count": 147,
   "metadata": {
    "colab": {
     "base_uri": "https://localhost:8080/",
     "height": 279
    },
    "deletable": false,
    "executionInfo": {
     "elapsed": 6619,
     "status": "ok",
     "timestamp": 1635627836415,
     "user": {
      "displayName": "Ragul Ravisankar",
      "photoUrl": "https://lh3.googleusercontent.com/a/default-user=s64",
      "userId": "17154159332672082782"
     },
     "user_tz": 360
    },
    "id": "oqUhXI8RxZV6",
    "nbgrader": {
     "cell_type": "code",
     "checksum": "5f06c3d4807dea4730d08080ee1b9f01",
     "grade": true,
     "grade_id": "a_2_7",
     "locked": false,
     "points": 2.5,
     "schema_version": 3,
     "solution": true,
     "task": false
    },
    "outputId": "ea80cb5b-8a38-4826-d453-e358f147aa35",
    "pycharm": {
     "name": "#%%\n"
    }
   },
   "outputs": [
    {
     "data": {
      "image/png": "[encoded data removed]",
      "text/plain": [
       "<Figure size 432x288 with 1 Axes>"
      ]
     },
     "metadata": {
      "needs_background": "light"
     },
     "output_type": "display_data"
    }
   ],
   "source": [
    "etas = [.0001,.001,.01, 1, 5]\n",
    "metric_values = []\n",
    "for eta in etas:\n",
    "    np.random.seed(42)\n",
    "    # Workspace 2.7\n",
    "    #BEGIN \n",
    "    #code here\n",
    "    logistic_regression = LogisticRegression(eta=eta)\n",
    "    logistic_regression.fit(binary_mnist.train_x,binary_mnist.train_y,epochs=10)\n",
    "    y_pred = logistic_regression.predict(binary_mnist.test_x)\n",
    "    metric_values.append(recall_score(binary_mnist.test_y, y_pred))\n",
    "    #END\n",
    "plt.plot(etas,metric_values, c='blue')\n",
    "plt.xlabel(\"ETA\")\n",
    "plt.ylabel(\"Recall\")\n",
    "plt.show()"
   ]
  },
  {
   "cell_type": "markdown",
   "metadata": {
    "deletable": false,
    "editable": false,
    "id": "DburHKxGxZV7",
    "nbgrader": {
     "cell_type": "markdown",
     "checksum": "c5a6bbb794aba57089e8a483417abc85",
     "grade": false,
     "grade_id": "q_2_8",
     "locked": true,
     "schema_version": 3,
     "solution": false,
     "task": false
    }
   },
   "source": [
    "This time we want to analyze the effect of varying the batch size. We fix `eta=0.1` and `epochs=10` and we want to\n",
    "examine the recall on the test set at the end of the training for `batch_size` in [1, 2, 4, 8, 12, 16].\n",
    "\n",
    "2.8 *[5 points]* Produce a plot of the recall at the end of the training as a function of the batch size. Reset the random generator before each you compute the recalls for each batch size.\n"
   ]
  },
  {
   "cell_type": "code",
   "execution_count": 148,
   "metadata": {
    "colab": {
     "base_uri": "https://localhost:8080/",
     "height": 279
    },
    "deletable": false,
    "executionInfo": {
     "elapsed": 4044,
     "status": "ok",
     "timestamp": 1635627840453,
     "user": {
      "displayName": "Ragul Ravisankar",
      "photoUrl": "https://lh3.googleusercontent.com/a/default-user=s64",
      "userId": "17154159332672082782"
     },
     "user_tz": 360
    },
    "id": "HhqaZpAQxZV7",
    "nbgrader": {
     "cell_type": "code",
     "checksum": "4c6e0a505bc2649ef9b3899f59bf1447",
     "grade": true,
     "grade_id": "a_2_8",
     "locked": false,
     "points": 5,
     "schema_version": 3,
     "solution": true,
     "task": false
    },
    "outputId": "e282d7d0-9276-4b85-9362-63f957bd7be6",
    "pycharm": {
     "name": "#%%\n"
    }
   },
   "outputs": [
    {
     "data": {
      "image/png": "[encoded data removed]",
      "text/plain": [
       "<Figure size 432x288 with 1 Axes>"
      ]
     },
     "metadata": {
      "needs_background": "light"
     },
     "output_type": "display_data"
    }
   ],
   "source": [
    "batch_sizes= [1, 2, 4, 8, 12, 16]\n",
    "recalls = []\n",
    "\n",
    "for batch_size in batch_sizes:\n",
    "    np.random.seed(42)\n",
    "    # Workspace 2.8\n",
    "    #BEGIN \n",
    "    #code here\n",
    "    logistic_regression = LogisticRegression(eta=0.1)\n",
    "    current_recall_scores = logistic_regression.fit(binary_mnist.train_x, binary_mnist.train_y, epochs=10, batch_size=batch_size)\n",
    "    recalls.append(current_recall_scores[-1])\n",
    "    #END\n",
    "plt.plot(batch_sizes, recalls)\n",
    "plt.xlabel(\"Batch Size\")\n",
    "plt.ylabel(\"Recall\")\n",
    "plt.show()"
   ]
  },
  {
   "cell_type": "markdown",
   "metadata": {
    "deletable": false,
    "editable": false,
    "id": "EuyiKiMkxZV7",
    "nbgrader": {
     "cell_type": "markdown",
     "checksum": "39a9086fa990a52f8198609b442741ac",
     "grade": false,
     "grade_id": "q_2_9",
     "locked": true,
     "schema_version": 3,
     "solution": false,
     "task": false
    }
   },
   "source": [
    "2.9 *[5 points]* How does the learning rate (eta) and the number of epochs in the performance of the classifier."
   ]
  },
  {
   "cell_type": "code",
   "execution_count": 149,
   "metadata": {
    "colab": {
     "base_uri": "https://localhost:8080/",
     "height": 279
    },
    "executionInfo": {
     "elapsed": 151266,
     "status": "ok",
     "timestamp": 1635627991714,
     "user": {
      "displayName": "Ragul Ravisankar",
      "photoUrl": "https://lh3.googleusercontent.com/a/default-user=s64",
      "userId": "17154159332672082782"
     },
     "user_tz": 360
    },
    "id": "DwAEGt6yS2P3",
    "outputId": "b41985b1-cb37-488d-9f7f-a1915ef6304e"
   },
   "outputs": [
    {
     "data": {
      "image/png": "[encoded data removed]",
      "text/plain": [
       "<Figure size 432x288 with 1 Axes>"
      ]
     },
     "metadata": {
      "needs_background": "light"
     },
     "output_type": "display_data"
    }
   ],
   "source": [
    "#Code for 2.9\n",
    "\n",
    "eta = 0.001\n",
    "epochs = [10,20,30,40,50,60,70,80,90,100,125,150,175,200]\n",
    "metrics = []\n",
    "for epoch in epochs:\n",
    "    np.random.seed(42) # Reset randomness\n",
    "    # Workspace 2.6\n",
    "    #BEGIN \n",
    "    #code \n",
    "    logistic_regression = LogisticRegression(eta=eta)\n",
    "    metric_values = logistic_regression.fit(binary_mnist.train_x,binary_mnist.train_y,epochs=epoch)\n",
    "    metrics.append(metric_values[-1])\n",
    "    #END  \n",
    "\n",
    "plt.plot(epochs,metrics)\n",
    "plt.xlabel('Epoch')\n",
    "plt.ylabel('Recall') \n",
    "plt.show()"
   ]
  },
  {
   "cell_type": "markdown",
   "metadata": {
    "deletable": false,
    "id": "yWsT2Z48xZV7",
    "nbgrader": {
     "cell_type": "markdown",
     "checksum": "49a07864fcf990929ad5ffcd14c872c0",
     "grade": true,
     "grade_id": "a_2_9",
     "locked": false,
     "points": 5,
     "schema_version": 3,
     "solution": true,
     "task": false
    }
   },
   "source": [
    "% Workspace 2.9\n",
    "\n",
    "**Impact of ETA on performace**\n",
    "\n",
    "From the graph (2.6) for epoch = 10, having eta greater than or equal to 1, the recall scores are highly unstable. Whereas when the eta values are low the graph is smooth whereas for high values of eta the graph oscillates up and down\n",
    "\n",
    "\n",
    "**Impact of Epoch on performance**\n",
    "\n",
    "As we saw in the above plot as we kept eta constant (0.001) and we varied the epoch values (10,20,30,40,50,60,70,80,90,100,125,150,175,200) and plotted the graph. \n",
    "\n",
    "As we increase the epoch values initially there is a sharp increase in recall score initially, but as the epoch values increases the recall score increases only slightly.\n",
    "\n",
    "And as the epoch values are very high (175,200) the recall score almost saturates there is not much difference between the recall scores.\n",
    "\n"
   ]
  },
  {
   "cell_type": "markdown",
   "metadata": {
    "deletable": false,
    "editable": false,
    "id": "n8rFRLC9xZV7",
    "nbgrader": {
     "cell_type": "markdown",
     "checksum": "cceefe20cd2b68163ec8e7c7a63c6a33",
     "grade": false,
     "grade_id": "q2_10",
     "locked": true,
     "schema_version": 3,
     "solution": false,
     "task": false
    },
    "pycharm": {
     "name": "#%% md\n"
    }
   },
   "source": [
    "2.10 (Bonus) *[5 points]* Since we're done with the binary regression, we will try to add Ridge regularization:\n",
    "\\begin{align}\n",
    "\\textrm{NLL}(w) = -\\frac{1}{N}\\sum_{i=1}^N \\left[y_i \\log \\sigma(\\mathbf{w}^T{x_i}) + (1-y_i)\\log(1 - \\sigma(\\mathbf{w}^Tx_i))\\right] + \\alpha {||\\mathbf{w}||^2}_{\\geq1}\n",
    "\\end{align}\n",
    "\n",
    "This is exactly what we will be using the `alpha` parameter in `LogisticRegression` for.\n",
    "First, write the gradient formula in the cell below and edit your `compute_gradient` to account for the regularization term. Note that the regularization $||w||^2$ does not apply to the intercept $\\mathbf{w}_0$"
   ]
  },
  {
   "cell_type": "markdown",
   "metadata": {
    "deletable": false,
    "id": "pOoaa43PxZV7",
    "nbgrader": {
     "cell_type": "markdown",
     "checksum": "f344ec39a4729b4902e3738db5e6ddbf",
     "grade": true,
     "grade_id": "a2_10",
     "locked": false,
     "points": 5,
     "schema_version": 3,
     "solution": true,
     "task": false
    }
   },
   "source": [
    "% Workspace 2.10\n",
    "\n",
    "The gradient of $NLL$ w.r.t $\\mathbf{w}$ with Ridge regularization is:\n",
    "\n",
    "\\begin{align}\n",
    "\\frac{\\partial \\textrm{NLL}}{\\partial \\mathbf{w}} = \\frac{1}{N} \\sum_i \\left[\\sigma(\\mathbf{w}^Tx_i)-y_i)\\right]x_i + 2\\alpha{||\\mathbf{w}||}\n",
    "\\end{align}\n"
   ]
  },
  {
   "cell_type": "code",
   "execution_count": 150,
   "metadata": {
    "colab": {
     "base_uri": "https://localhost:8080/",
     "height": 279
    },
    "executionInfo": {
     "elapsed": 8922,
     "status": "ok",
     "timestamp": 1635628000630,
     "user": {
      "displayName": "Ragul Ravisankar",
      "photoUrl": "https://lh3.googleusercontent.com/a/default-user=s64",
      "userId": "17154159332672082782"
     },
     "user_tz": 360
    },
    "id": "eVMbqYrObJeo",
    "outputId": "913216ae-13e8-4ed4-c3e6-dc068f3f80f2"
   },
   "outputs": [
    {
     "data": {
      "image/png": "[encoded data removed]",
      "text/plain": [
       "<Figure size 432x288 with 1 Axes>"
      ]
     },
     "metadata": {
      "needs_background": "light"
     },
     "output_type": "display_data"
    }
   ],
   "source": [
    "#Code for 2.10\n",
    "\n",
    "eta = 0.001\n",
    "epoch = 10\n",
    "alphas = [ 0.01, 0.05, 0.1, 0.2, 0.3, 0.5 , 1.0]\n",
    "metrics = []\n",
    "for alpha in alphas:\n",
    "    np.random.seed(42) # Reset randomness\n",
    "    # Workspace 2.6\n",
    "    #BEGIN \n",
    "    #code \n",
    "    logistic_regression = LogisticRegression(eta=eta, alpha = alpha)\n",
    "    metric_values = logistic_regression.fit(binary_mnist.train_x,binary_mnist.train_y,epochs=epoch)\n",
    "    metrics.append(metric_values[-1])\n",
    "    #END  \n",
    "\n",
    "plt.plot(alphas,metrics)\n",
    "plt.xlabel('Alpha')\n",
    "plt.ylabel('Recall') \n",
    "plt.show()"
   ]
  },
  {
   "cell_type": "markdown",
   "metadata": {
    "deletable": false,
    "editable": false,
    "id": "rzVpSRbexZV7",
    "nbgrader": {
     "cell_type": "markdown",
     "checksum": "4f8d02ef4c9ed919cde0ce25de97e809",
     "grade": false,
     "grade_id": "cell-2b53d5d40987324e",
     "locked": true,
     "schema_version": 3,
     "solution": false,
     "task": false
    }
   },
   "source": [
    "## Problem 3: Logistic Regression for Multiclass Classification (25)\n",
    "\n",
    "You will now create a classifier that is commonly referred to as _One Versus All_ Logistic Regression,\n",
    "where a binary classifier will be trained to identify a single class. The prediction is performed by assigning the label\n",
    "of the classifier that is most confident in its prediction (the highest score).\n",
    "\n",
    "The dataset will be a restricted version of the MNIST dataset which digits 3,7,8,9. You are free to use the functions you created above as needed."
   ]
  },
  {
   "cell_type": "code",
   "execution_count": 151,
   "metadata": {
    "deletable": false,
    "editable": false,
    "executionInfo": {
     "elapsed": 11,
     "status": "ok",
     "timestamp": 1635628000631,
     "user": {
      "displayName": "Ragul Ravisankar",
      "photoUrl": "https://lh3.googleusercontent.com/a/default-user=s64",
      "userId": "17154159332672082782"
     },
     "user_tz": 360
    },
    "id": "Uo0V9GpzxZV7",
    "nbgrader": {
     "cell_type": "code",
     "checksum": "d9d96ef081f3bc7e1f216debe14c5b39",
     "grade": false,
     "grade_id": "mnist",
     "locked": true,
     "schema_version": 3,
     "solution": false,
     "task": false
    },
    "pycharm": {
     "name": "#%%\n"
    }
   },
   "outputs": [],
   "source": [
    "class MNIST:\n",
    "    \"\"\"\n",
    "    Class to store MNIST data for images of 3,7,8,9\n",
    "    \"\"\"\n",
    "    def __init__(self, location=\"/content/drive/MyDrive/PS3_5622/data/mnist.pklz\"):#data/mnist.pklz\n",
    "        # You shouldn't have to modify this class\n",
    "        # Load the dataset\n",
    "        with gzip.open(location, 'rb') as f:\n",
    "            self.train_x, self.train_y, self.test_x, self.test_y = pickle.load(f)\n",
    "mnist = MNIST()"
   ]
  },
  {
   "cell_type": "markdown",
   "metadata": {
    "deletable": false,
    "editable": false,
    "id": "cpaRnONkxZV8",
    "nbgrader": {
     "cell_type": "markdown",
     "checksum": "98ed5f14f6f2eabe44f322a259c8d98a",
     "grade": false,
     "grade_id": "questions3",
     "locked": true,
     "schema_version": 3,
     "solution": false,
     "task": false
    },
    "pycharm": {
     "name": "#%% md\n"
    }
   },
   "source": [
    "- 3.1 *[2.5 points]* Complete `one_hot_encoding`to transform your integer labels into a set of binary features via one-hot encoding.\n",
    "* 3.2 *[2.5 points]* Complete `normalize_data` to normalize your features. You can use `StandardScaler`\n",
    "* 3.3 *[5 points]* Complete `predict` method to return the predicted label using the scores from each class classifier\n",
    "* 3.4 *[2.5 points]* Complete `evaluate` to return the weighted average recall (WAR) on the validation data (use `recall_score`)\n",
    "* 3.5 *[5 points]* Complete `fit` function to fit all 4 classifiers with their corresponding labels and compute the WAR at the end of each epoch"
   ]
  },
  {
   "cell_type": "code",
   "execution_count": 152,
   "metadata": {
    "deletable": false,
    "executionInfo": {
     "elapsed": 10,
     "status": "ok",
     "timestamp": 1635628000632,
     "user": {
      "displayName": "Ragul Ravisankar",
      "photoUrl": "https://lh3.googleusercontent.com/a/default-user=s64",
      "userId": "17154159332672082782"
     },
     "user_tz": 360
    },
    "id": "bW8LFw7SxZV8",
    "nbgrader": {
     "cell_type": "code",
     "checksum": "23995cea88c99657c23451bcd35d804b",
     "grade": false,
     "grade_id": "ova_code",
     "locked": false,
     "schema_version": 3,
     "solution": true,
     "task": false
    },
    "pycharm": {
     "name": "#%%\n"
    }
   },
   "outputs": [],
   "source": [
    "class OneVersusAll(object):\n",
    "\n",
    "    def __init__(self, eta = 0.1, alpha=0):\n",
    "        self.eta = eta # Learning Rate\n",
    "        self.classifiers = [] # Array of LogisticRegression classifiers\n",
    "        self.label_to_index = {3:0, 7:1, 8:2, 9:3} # dictionary mapping MNIST labels to array indices 0 - 3\n",
    "        self.index_to_label = {v:k for k,v in self.label_to_index.items()} # dictionary mapping array indices 0 - 3 \n",
    "            # to MNIST labels\n",
    "        self.alpha = alpha # regularization / penalty rate (USED IN BONUS)\n",
    "        self.scaler = StandardScaler()\n",
    "        self.fitted = False # Flag to store wether the model is already fitted to avoid fitting scaler more than once\n",
    "\n",
    "    def one_hot_encoding(self, y):\n",
    "        one_hot_encode = []\n",
    "        # Workspace 3.1\n",
    "        # TO DO: Represent the output vector y as a one hot encoding. Create a matrix of dimensions (m X 4)\n",
    "        # where m = number of examples, and 4 for number of classes\n",
    "        # if the class for the ith example is 7, then y[i][label_to_index[7]] = 1 and the for k != 1, y[i][k] = 0.\n",
    "        #BEGIN \n",
    "        #code here\n",
    "        for label in y:\n",
    "          encoded_value = np.zeros(len(self.label_to_index))\n",
    "          encoded_value.put(self.label_to_index[label],1)# encoded_value[self.label_to_index[label]]=1\n",
    "          one_hot_encode.append(encoded_value)\n",
    "        #END\n",
    "        return np.array(one_hot_encode)\n",
    "\n",
    "    def normalize_data(self, X):\n",
    "        \"\"\"\n",
    "        Fit scaler if it hasn't been done yet and normalize X\n",
    "        :param X: Raw features.\n",
    "        :return: Normalized feautures\n",
    "        \"\"\"\n",
    "        # Workspace 3.2\n",
    "        # TO DO: Normalize the feature values of dataset X, you have to keep track of the mean and variance\n",
    "        #BEGIN \n",
    "        #code here\n",
    "\n",
    "        #if not fitted do the normaliztion\n",
    "        if self.fitted is False:\n",
    "          self.scaler.fit(X)\n",
    "          self.fitted = True\n",
    "\n",
    "        X = self.scaler.transform(X)\n",
    "        return X  \n",
    "        #END\n",
    "        \n",
    "\n",
    "    def predict(self, test_x):\n",
    "        # Workspace 3.3\n",
    "        # TO DO: Normalize test_x, process it and return the predicted label using the scores from classifiers\n",
    "        #BEGIN \n",
    "        #code here\n",
    "        test_x = self.normalize_data(test_x)\n",
    "        test_x = np.concatenate([np.ones((test_x.shape[0],1)), test_x], axis=1) #appending bias\n",
    "        predicted_classes = []\n",
    "        class_labels = []\n",
    "\n",
    "        for idx, classifier in enumerate(self.classifiers):\n",
    "          current_score = classifier.sigmoid(classifier.score(test_x))\n",
    "          predicted_classes.append(current_score)\n",
    "\n",
    "        for column in range(len(predicted_classes[0])):\n",
    "          max_index = 0\n",
    "          max_value = float('-inf')\n",
    "          for row in range(len(predicted_classes)):\n",
    "            if predicted_classes[row][column] > max_value:\n",
    "              max_value = predicted_classes[row][column]\n",
    "              max_index = row\n",
    "          class_labels.append(self.index_to_label[max_index])\n",
    "        return class_labels         \n",
    "        #END\n",
    "\n",
    "\n",
    "    def evaluate(self, test_x, test_y):\n",
    "        # Workspace 3.4\n",
    "        #BEGIN \n",
    "        #code here\n",
    "        y_predicted = self.predict(test_x)\n",
    "        return recall_score(test_y, y_predicted, average='weighted')\n",
    "        #END\n",
    "\n",
    "    def fit(self, X, y, batch_size=12, epochs=10, validation_X=None, validation_y=None):\n",
    "        metrics = []\n",
    "\n",
    "        if validation_X is None:\n",
    "            validation_X, validation_y = X, y\n",
    "        # Workspace 3.5\n",
    "        # TO DO: Compute Weighted Average Recall at the end of each epoch\n",
    "        # TO DO: Process training data and use it to fit self.classifiers and compute the metrics every epoch\n",
    "        #BEGIN \n",
    "        #code here\n",
    "        X = self.normalize_data(X)\n",
    "        modified_y = self.one_hot_encoding(y)\n",
    "\n",
    "        for _ in range(len(self.label_to_index)):\n",
    "          if len(self.classifiers)<len(self.label_to_index):\n",
    "            logistic_regression = LogisticRegression(alpha = self.alpha, eta = self.eta)\n",
    "            self.classifiers.append(logistic_regression)\n",
    "\n",
    "        for _ in range(epochs):\n",
    "          for idx,classifer in enumerate(self.classifiers):\n",
    "            binary_y = modified_y[:,idx]\n",
    "            classifer.fit(X,binary_y,batch_size = batch_size, epochs=1)\n",
    "          metrics.append(self.evaluate(validation_X,validation_y))\n",
    "        #END\n",
    "        return metrics\n"
   ]
  },
  {
   "cell_type": "code",
   "execution_count": 153,
   "metadata": {
    "deletable": false,
    "editable": false,
    "executionInfo": {
     "elapsed": 11,
     "status": "ok",
     "timestamp": 1635628000633,
     "user": {
      "displayName": "Ragul Ravisankar",
      "photoUrl": "https://lh3.googleusercontent.com/a/default-user=s64",
      "userId": "17154159332672082782"
     },
     "user_tz": 360
    },
    "id": "J4YLtaDyxZV8",
    "nbgrader": {
     "cell_type": "code",
     "checksum": "3d51c67f1ad098fe815bc7acf7714f78",
     "grade": true,
     "grade_id": "ova_test1",
     "locked": true,
     "points": 17.5,
     "schema_version": 3,
     "solution": false,
     "task": false
    },
    "pycharm": {
     "name": "#%%\n"
    }
   },
   "outputs": [],
   "source": [
    "# This cell will be used for tests\n",
    "# Do not remove\n",
    "\n",
    "\n"
   ]
  },
  {
   "cell_type": "markdown",
   "metadata": {
    "deletable": false,
    "editable": false,
    "id": "DCaa7qbKxZV8",
    "nbgrader": {
     "cell_type": "markdown",
     "checksum": "de50e24afb5090f3e49f52b85c68121f",
     "grade": false,
     "grade_id": "q_3_6",
     "locked": true,
     "schema_version": 3,
     "solution": false,
     "task": false
    },
    "pycharm": {
     "name": "#%% md\n"
    }
   },
   "source": [
    "- 3.6 *[5 points]* Train `OneVersusAll` for 36 epochs using eta=0.1 and batch_size = 12. In the same figure, plot:\n",
    "    - The WAR metric on the mnist training data at the end of each epoch\n",
    "    - The WAR metric on the mnist test data at the end of each epoch\n",
    "\n",
    "You might need to adapt LogisticRegression so that fit method can be called multiple times without\n",
    "losing the weights from previous batch gradients.\n",
    "\n",
    "For a fair comparison, call `np.random.seed(42)` before each `fit` to reset the random generator."
   ]
  },
  {
   "cell_type": "code",
   "execution_count": 154,
   "metadata": {
    "colab": {
     "base_uri": "https://localhost:8080/",
     "height": 279
    },
    "deletable": false,
    "executionInfo": {
     "elapsed": 16991,
     "status": "ok",
     "timestamp": 1635628017614,
     "user": {
      "displayName": "Ragul Ravisankar",
      "photoUrl": "https://lh3.googleusercontent.com/a/default-user=s64",
      "userId": "17154159332672082782"
     },
     "user_tz": 360
    },
    "id": "-4rtl6CvxZV8",
    "nbgrader": {
     "cell_type": "code",
     "checksum": "1314b3c1f786789851a461bfcaebe9cb",
     "grade": true,
     "grade_id": "a_3_6",
     "locked": false,
     "points": 5,
     "schema_version": 3,
     "solution": true,
     "task": false
    },
    "outputId": "78a75c1e-f24c-475e-b34f-4063dbb774c0",
    "pycharm": {
     "name": "#%%\n"
    }
   },
   "outputs": [
    {
     "data": {
      "image/png": "[encoded data removed]",
      "text/plain": [
       "<Figure size 432x288 with 1 Axes>"
      ]
     },
     "metadata": {
      "needs_background": "light"
     },
     "output_type": "display_data"
    }
   ],
   "source": [
    "epochs = 36\n",
    "eta = 0.1\n",
    "batch_size = 12\n",
    "# Workspace 3.6\n",
    "#BEGIN \n",
    "#code here\n",
    "\n",
    "train_results = []\n",
    "test_results = []\n",
    "model = OneVersusAll(eta = eta)\n",
    "\n",
    "for _ in range(epochs):\n",
    "  np.random.seed(42)\n",
    "  train_result = model.fit(mnist.train_x, mnist.train_y, batch_size=batch_size, epochs=1)\n",
    "  test_result = model.evaluate(mnist.test_x, mnist.test_y)\n",
    "  train_results.extend(train_result)\n",
    "  test_results.append(test_result)\n",
    "\n",
    "plt.plot(range(epochs), train_results, label='Train Result vs epoch')\n",
    "plt.plot(range(epochs), test_results, label='Test Result vs epoch')\n",
    "plt.xlabel('Epoch')\n",
    "plt.ylabel('WAR')\n",
    "plt.legend()\n",
    "plt.show()\n",
    "#END"
   ]
  },
  {
   "cell_type": "markdown",
   "metadata": {
    "deletable": false,
    "editable": false,
    "id": "8Rm9szkPxZV8",
    "nbgrader": {
     "cell_type": "markdown",
     "checksum": "391bea81bf432810cbeee1cb9933b7bb",
     "grade": false,
     "grade_id": "q_3_7",
     "locked": true,
     "schema_version": 3,
     "solution": false,
     "task": false
    },
    "pycharm": {
     "name": "#%% md\n"
    }
   },
   "source": [
    "- 3.7 *[2.5 points]* Does the WAR improve as we train for more epochs on the two data partitions (train, test)? Why?\n",
    "\n",
    "From the above graph we can see that for the train data the WAR is increasing, whereas for the test data the WAR is getting reduced after 5 epochs. After 25 epochs it becomes stable for the test data. \n",
    "\n",
    "It is improving the performance of training data whereas it doesn't do the same for the test data. I think it might be due to overfitting, where due to many epochs the model will start to learn more about the training data and for the test data it is giving low WAR compared to the training data"
   ]
  },
  {
   "cell_type": "markdown",
   "metadata": {
    "deletable": false,
    "id": "XxTSuelNxZV8",
    "nbgrader": {
     "cell_type": "markdown",
     "checksum": "e376c912c019ca91a65b534c47361cfe",
     "grade": true,
     "grade_id": "a_3_7",
     "locked": false,
     "points": 2.5,
     "schema_version": 3,
     "solution": true,
     "task": false
    },
    "pycharm": {
     "name": "#%%\n"
    }
   },
   "source": [
    "% Workspace 3.7\n",
    "\n",
    "Write-up answer here"
   ]
  },
  {
   "cell_type": "markdown",
   "metadata": {
    "deletable": false,
    "editable": false,
    "id": "-mYY4bvKxZV9",
    "nbgrader": {
     "cell_type": "markdown",
     "checksum": "aec118dc6a65fcfad0edbbba156e155b",
     "grade": false,
     "grade_id": "q_3_8",
     "locked": true,
     "schema_version": 3,
     "solution": false,
     "task": false
    }
   },
   "source": [
    "- 3.8 (Bonus)*[5 points]* Repeat 3.6 and 3.7 using Ridge regularization for the LogisticRegression classifiers with alpha=1. How does the regularization affect the performance on train VS test sets?\n",
    "\n",
    "You have to answer 2.10 before you attempt this question."
   ]
  },
  {
   "cell_type": "code",
   "execution_count": 156,
   "metadata": {
    "colab": {
     "base_uri": "https://localhost:8080/",
     "height": 279
    },
    "deletable": false,
    "executionInfo": {
     "elapsed": 17076,
     "status": "ok",
     "timestamp": 1635628091530,
     "user": {
      "displayName": "Ragul Ravisankar",
      "photoUrl": "https://lh3.googleusercontent.com/a/default-user=s64",
      "userId": "17154159332672082782"
     },
     "user_tz": 360
    },
    "id": "Dno8hbf8xZV9",
    "nbgrader": {
     "cell_type": "code",
     "checksum": "b4ab4714bb8fdb5a27cc9aa4f552e0d1",
     "grade": true,
     "grade_id": "a_3_8_a",
     "locked": false,
     "points": 2.5,
     "schema_version": 3,
     "solution": true,
     "task": false
    },
    "outputId": "52b1f7de-f5d7-4b46-a4f8-b7dbc77dda25",
    "pycharm": {
     "name": "#%%\n"
    }
   },
   "outputs": [
    {
     "data": {
      "image/png": "[encoded data removed]",
      "text/plain": [
       "<Figure size 432x288 with 1 Axes>"
      ]
     },
     "metadata": {
      "needs_background": "light"
     },
     "output_type": "display_data"
    }
   ],
   "source": [
    "epochs = 36\n",
    "eta = 0.1\n",
    "batch_size = 12\n",
    "alpha = 1.0\n",
    "# Workspace 3.8 (code)\n",
    "#BEGIN \n",
    "#code here\n",
    "train_results = []\n",
    "test_results = []\n",
    "model = OneVersusAll(eta = eta, alpha = alpha)\n",
    "\n",
    "for _ in range(epochs):\n",
    "  np.random.seed(42)\n",
    "  train_result = model.fit(mnist.train_x, mnist.train_y, batch_size=batch_size, epochs=1)\n",
    "  test_result = model.evaluate(mnist.test_x, mnist.test_y)\n",
    "  train_results.extend(train_result)\n",
    "  test_results.append(test_result)\n",
    "\n",
    "plt.plot(range(epochs), train_results, label='Train Result vs epoch')\n",
    "plt.plot(range(epochs), test_results, label='Test Result vs epoch')\n",
    "plt.xlabel('Epoch')\n",
    "plt.ylabel('WAR')\n",
    "plt.legend()\n",
    "plt.show()\n",
    "#END\n"
   ]
  },
  {
   "cell_type": "markdown",
   "metadata": {
    "deletable": false,
    "id": "GlUyZ4m0xZV9",
    "nbgrader": {
     "cell_type": "markdown",
     "checksum": "04ab9667a91bb0fd53a8a1cdc7c3dbfe",
     "grade": true,
     "grade_id": "a3_8_b",
     "locked": false,
     "points": 2.5,
     "schema_version": 3,
     "solution": true,
     "task": false
    }
   },
   "source": [
    "% Workspace 3.8 (write up)\n",
    "\n",
    "By passing alpha value = 1 we induce regularization, from the above graph we can clearly see as we go more epochs(after 2 epochs) the WAR remains constant throughout for both training data and test data. From the training data we can clearly see WAR remains constant for more epochs as well. Therefore it prevents overfitting. But when we compare the above graph with the graph of 3.7 we can see a huge drop of WAR score for both the training data and the test data. We know that the regularization reduces overfitting by inducing the bias. Therefore I think there is drop in WAR score when we compared with the previous graph(without regularization) "
   ]
  }
 ],
 "metadata": {
  "colab": {
   "collapsed_sections": [],
   "name": "PS3_Base_5622.ipynb",
   "provenance": []
  },
  "kernelspec": {
   "display_name": "Python 3",
   "language": "python",
   "name": "python3"
  },
  "language_info": {
   "codemirror_mode": {
    "name": "ipython",
    "version": 3
   },
   "file_extension": ".py",
   "mimetype": "text/x-python",
   "name": "python",
   "nbconvert_exporter": "python",
   "pygments_lexer": "ipython3",
   "version": "3.8.8"
  }
 },
 "nbformat": 4,
 "nbformat_minor": 1
}
